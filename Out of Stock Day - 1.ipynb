{
 "cells": [
  {
   "cell_type": "markdown",
   "metadata": {},
   "source": [
    "# Problem Statement:-"
   ]
  },
  {
   "cell_type": "code",
   "execution_count": null,
   "metadata": {},
   "outputs": [],
   "source": []
  },
  {
   "cell_type": "code",
   "execution_count": null,
   "metadata": {},
   "outputs": [],
   "source": []
  },
  {
   "cell_type": "code",
   "execution_count": 162,
   "metadata": {},
   "outputs": [],
   "source": [
    "import numpy as np\n",
    "import pandas as pd\n",
    "import matplotlib.pyplot as plt\n",
    "import seaborn as sns\n",
    "import math\n",
    "import re\n",
    "from scipy import stats\n",
    "from scipy.stats import norm\n",
    "#from scipy.stats import boxcox\n",
    "#import statsmodels.api as sm\n",
    "import warnings\n",
    "warnings.filterwarnings('ignore')"
   ]
  },
  {
   "cell_type": "code",
   "execution_count": 259,
   "metadata": {},
   "outputs": [
    {
     "data": {
      "text/html": [
       "<div>\n",
       "<style scoped>\n",
       "    .dataframe tbody tr th:only-of-type {\n",
       "        vertical-align: middle;\n",
       "    }\n",
       "\n",
       "    .dataframe tbody tr th {\n",
       "        vertical-align: top;\n",
       "    }\n",
       "\n",
       "    .dataframe thead th {\n",
       "        text-align: right;\n",
       "    }\n",
       "</style>\n",
       "<table border=\"1\" class=\"dataframe\">\n",
       "  <thead>\n",
       "    <tr style=\"text-align: right;\">\n",
       "      <th></th>\n",
       "      <th>po_nbr</th>\n",
       "      <th>present_inv</th>\n",
       "      <th>lead_time</th>\n",
       "      <th>total_whpk_qty</th>\n",
       "      <th>fcst_3_mo</th>\n",
       "      <th>fcst_6_mo</th>\n",
       "      <th>fcst_9_mo</th>\n",
       "      <th>sls_1_mo</th>\n",
       "      <th>sls_3_mo</th>\n",
       "      <th>sls_6_mo</th>\n",
       "      <th>...</th>\n",
       "      <th>spare_parts_overdue</th>\n",
       "      <th>avg_ratings_6_mo</th>\n",
       "      <th>avg_ratings_12_mo</th>\n",
       "      <th>stock_overdue</th>\n",
       "      <th>internal_risk1</th>\n",
       "      <th>internal_risk2</th>\n",
       "      <th>production_quality_risk</th>\n",
       "      <th>pdt_recsys</th>\n",
       "      <th>internal_risk3</th>\n",
       "      <th>out_of_stock</th>\n",
       "    </tr>\n",
       "  </thead>\n",
       "  <tbody>\n",
       "    <tr>\n",
       "      <th>1259895</th>\n",
       "      <td>2842257</td>\n",
       "      <td>415.0</td>\n",
       "      <td>NaN</td>\n",
       "      <td>0.0</td>\n",
       "      <td>0.0</td>\n",
       "      <td>0.0</td>\n",
       "      <td>0.0</td>\n",
       "      <td>0.0</td>\n",
       "      <td>3.0</td>\n",
       "      <td>28.0</td>\n",
       "      <td>...</td>\n",
       "      <td>0.0</td>\n",
       "      <td>-99.00</td>\n",
       "      <td>-99.00</td>\n",
       "      <td>0.0</td>\n",
       "      <td>Yes</td>\n",
       "      <td>No</td>\n",
       "      <td>No</td>\n",
       "      <td>No</td>\n",
       "      <td>No</td>\n",
       "      <td>No</td>\n",
       "    </tr>\n",
       "    <tr>\n",
       "      <th>1453574</th>\n",
       "      <td>3043795</td>\n",
       "      <td>10.0</td>\n",
       "      <td>2.0</td>\n",
       "      <td>0.0</td>\n",
       "      <td>0.0</td>\n",
       "      <td>0.0</td>\n",
       "      <td>0.0</td>\n",
       "      <td>0.0</td>\n",
       "      <td>0.0</td>\n",
       "      <td>0.0</td>\n",
       "      <td>...</td>\n",
       "      <td>0.0</td>\n",
       "      <td>0.00</td>\n",
       "      <td>0.05</td>\n",
       "      <td>0.0</td>\n",
       "      <td>Yes</td>\n",
       "      <td>No</td>\n",
       "      <td>No</td>\n",
       "      <td>Yes</td>\n",
       "      <td>No</td>\n",
       "      <td>No</td>\n",
       "    </tr>\n",
       "    <tr>\n",
       "      <th>602282</th>\n",
       "      <td>1950252</td>\n",
       "      <td>71.0</td>\n",
       "      <td>8.0</td>\n",
       "      <td>6.0</td>\n",
       "      <td>100.0</td>\n",
       "      <td>140.0</td>\n",
       "      <td>160.0</td>\n",
       "      <td>14.0</td>\n",
       "      <td>35.0</td>\n",
       "      <td>71.0</td>\n",
       "      <td>...</td>\n",
       "      <td>0.0</td>\n",
       "      <td>0.93</td>\n",
       "      <td>0.94</td>\n",
       "      <td>0.0</td>\n",
       "      <td>No</td>\n",
       "      <td>No</td>\n",
       "      <td>No</td>\n",
       "      <td>Yes</td>\n",
       "      <td>No</td>\n",
       "      <td>No</td>\n",
       "    </tr>\n",
       "    <tr>\n",
       "      <th>480648</th>\n",
       "      <td>1828636</td>\n",
       "      <td>5.0</td>\n",
       "      <td>9.0</td>\n",
       "      <td>0.0</td>\n",
       "      <td>0.0</td>\n",
       "      <td>0.0</td>\n",
       "      <td>0.0</td>\n",
       "      <td>0.0</td>\n",
       "      <td>0.0</td>\n",
       "      <td>0.0</td>\n",
       "      <td>...</td>\n",
       "      <td>0.0</td>\n",
       "      <td>0.99</td>\n",
       "      <td>0.96</td>\n",
       "      <td>0.0</td>\n",
       "      <td>No</td>\n",
       "      <td>No</td>\n",
       "      <td>No</td>\n",
       "      <td>Yes</td>\n",
       "      <td>No</td>\n",
       "      <td>No</td>\n",
       "    </tr>\n",
       "    <tr>\n",
       "      <th>201010</th>\n",
       "      <td>1312565</td>\n",
       "      <td>63.0</td>\n",
       "      <td>2.0</td>\n",
       "      <td>0.0</td>\n",
       "      <td>0.0</td>\n",
       "      <td>0.0</td>\n",
       "      <td>0.0</td>\n",
       "      <td>0.0</td>\n",
       "      <td>0.0</td>\n",
       "      <td>24.0</td>\n",
       "      <td>...</td>\n",
       "      <td>0.0</td>\n",
       "      <td>0.69</td>\n",
       "      <td>0.40</td>\n",
       "      <td>0.0</td>\n",
       "      <td>Yes</td>\n",
       "      <td>No</td>\n",
       "      <td>No</td>\n",
       "      <td>Yes</td>\n",
       "      <td>No</td>\n",
       "      <td>No</td>\n",
       "    </tr>\n",
       "  </tbody>\n",
       "</table>\n",
       "<p>5 rows × 23 columns</p>\n",
       "</div>"
      ],
      "text/plain": [
       "          po_nbr  present_inv  lead_time  total_whpk_qty  fcst_3_mo  \\\n",
       "1259895  2842257        415.0        NaN             0.0        0.0   \n",
       "1453574  3043795         10.0        2.0             0.0        0.0   \n",
       "602282   1950252         71.0        8.0             6.0      100.0   \n",
       "480648   1828636          5.0        9.0             0.0        0.0   \n",
       "201010   1312565         63.0        2.0             0.0        0.0   \n",
       "\n",
       "         fcst_6_mo  fcst_9_mo  sls_1_mo  sls_3_mo  sls_6_mo  ...  \\\n",
       "1259895        0.0        0.0       0.0       3.0      28.0  ...   \n",
       "1453574        0.0        0.0       0.0       0.0       0.0  ...   \n",
       "602282       140.0      160.0      14.0      35.0      71.0  ...   \n",
       "480648         0.0        0.0       0.0       0.0       0.0  ...   \n",
       "201010         0.0        0.0       0.0       0.0      24.0  ...   \n",
       "\n",
       "         spare_parts_overdue  avg_ratings_6_mo avg_ratings_12_mo  \\\n",
       "1259895                  0.0            -99.00            -99.00   \n",
       "1453574                  0.0              0.00              0.05   \n",
       "602282                   0.0              0.93              0.94   \n",
       "480648                   0.0              0.99              0.96   \n",
       "201010                   0.0              0.69              0.40   \n",
       "\n",
       "         stock_overdue  internal_risk1  internal_risk2  \\\n",
       "1259895            0.0             Yes              No   \n",
       "1453574            0.0             Yes              No   \n",
       "602282             0.0              No              No   \n",
       "480648             0.0              No              No   \n",
       "201010             0.0             Yes              No   \n",
       "\n",
       "         production_quality_risk pdt_recsys internal_risk3 out_of_stock  \n",
       "1259895                       No         No             No           No  \n",
       "1453574                       No        Yes             No           No  \n",
       "602282                        No        Yes             No           No  \n",
       "480648                        No        Yes             No           No  \n",
       "201010                        No        Yes             No           No  \n",
       "\n",
       "[5 rows x 23 columns]"
      ]
     },
     "execution_count": 259,
     "metadata": {},
     "output_type": "execute_result"
    }
   ],
   "source": [
    "df = pd.read_csv(\"sample.csv\",index_col=0)\n",
    "df.head()"
   ]
  },
  {
   "cell_type": "code",
   "execution_count": 189,
   "metadata": {},
   "outputs": [
    {
     "data": {
      "text/plain": [
       "(192994, 23)"
      ]
     },
     "execution_count": 189,
     "metadata": {},
     "output_type": "execute_result"
    }
   ],
   "source": [
    "df.shape"
   ]
  },
  {
   "cell_type": "code",
   "execution_count": 191,
   "metadata": {},
   "outputs": [
    {
     "name": "stdout",
     "output_type": "stream",
     "text": [
      "<class 'pandas.core.frame.DataFrame'>\n",
      "RangeIndex: 192994 entries, 0 to 192993\n",
      "Data columns (total 23 columns):\n",
      " #   Column                   Non-Null Count   Dtype  \n",
      "---  ------                   --------------   -----  \n",
      " 0   po_nbr                   192994 non-null  int64  \n",
      " 1   present_inv              192994 non-null  float64\n",
      " 2   lead_time                181317 non-null  float64\n",
      " 3   total_whpk_qty           192994 non-null  float64\n",
      " 4   fcst_3_mo                192994 non-null  float64\n",
      " 5   fcst_6_mo                192994 non-null  float64\n",
      " 6   fcst_9_mo                192994 non-null  float64\n",
      " 7   sls_1_mo                 192994 non-null  float64\n",
      " 8   sls_3_mo                 192994 non-null  float64\n",
      " 9   sls_6_mo                 192994 non-null  float64\n",
      " 10  sls_9_mo                 192994 non-null  float64\n",
      " 11  minimum_stock_qty        192994 non-null  float64\n",
      " 12  identified_defect        192994 non-null  object \n",
      " 13  spare_parts_overdue      192994 non-null  float64\n",
      " 14  avg_ratings_6_mo         192994 non-null  float64\n",
      " 15  avg_ratings_12_mo        192994 non-null  float64\n",
      " 16  stock_overdue            192994 non-null  float64\n",
      " 17  internal_risk1           192994 non-null  object \n",
      " 18  internal_risk2           192994 non-null  object \n",
      " 19  production_quality_risk  192994 non-null  object \n",
      " 20  pdt_recsys               192994 non-null  object \n",
      " 21  internal_risk3           192994 non-null  object \n",
      " 22  out_of_stock             192994 non-null  object \n",
      "dtypes: float64(15), int64(1), object(7)\n",
      "memory usage: 33.9+ MB\n"
     ]
    }
   ],
   "source": [
    "df.info()"
   ]
  },
  {
   "cell_type": "code",
   "execution_count": 193,
   "metadata": {},
   "outputs": [
    {
     "data": {
      "text/plain": [
       "po_nbr                     0.000000\n",
       "present_inv                0.000000\n",
       "lead_time                  6.050447\n",
       "total_whpk_qty             0.000000\n",
       "fcst_3_mo                  0.000000\n",
       "fcst_6_mo                  0.000000\n",
       "fcst_9_mo                  0.000000\n",
       "sls_1_mo                   0.000000\n",
       "sls_3_mo                   0.000000\n",
       "sls_6_mo                   0.000000\n",
       "sls_9_mo                   0.000000\n",
       "minimum_stock_qty          0.000000\n",
       "identified_defect          0.000000\n",
       "spare_parts_overdue        0.000000\n",
       "avg_ratings_6_mo           0.000000\n",
       "avg_ratings_12_mo          0.000000\n",
       "stock_overdue              0.000000\n",
       "internal_risk1             0.000000\n",
       "internal_risk2             0.000000\n",
       "production_quality_risk    0.000000\n",
       "pdt_recsys                 0.000000\n",
       "internal_risk3             0.000000\n",
       "out_of_stock               0.000000\n",
       "dtype: float64"
      ]
     },
     "execution_count": 193,
     "metadata": {},
     "output_type": "execute_result"
    }
   ],
   "source": [
    "df.isnull().sum()*100/len(df)"
   ]
  },
  {
   "cell_type": "code",
   "execution_count": 194,
   "metadata": {},
   "outputs": [
    {
     "data": {
      "text/plain": [
       "0"
      ]
     },
     "execution_count": 194,
     "metadata": {},
     "output_type": "execute_result"
    }
   ],
   "source": [
    "df.duplicated().sum()"
   ]
  },
  {
   "cell_type": "code",
   "execution_count": 199,
   "metadata": {},
   "outputs": [
    {
     "data": {
      "text/plain": [
       "407.1565"
      ]
     },
     "execution_count": 199,
     "metadata": {},
     "output_type": "execute_result"
    }
   ],
   "source": [
    "4.071565e+02"
   ]
  },
  {
   "cell_type": "code",
   "execution_count": 195,
   "metadata": {},
   "outputs": [
    {
     "data": {
      "text/html": [
       "<div>\n",
       "<style scoped>\n",
       "    .dataframe tbody tr th:only-of-type {\n",
       "        vertical-align: middle;\n",
       "    }\n",
       "\n",
       "    .dataframe tbody tr th {\n",
       "        vertical-align: top;\n",
       "    }\n",
       "\n",
       "    .dataframe thead th {\n",
       "        text-align: right;\n",
       "    }\n",
       "</style>\n",
       "<table border=\"1\" class=\"dataframe\">\n",
       "  <thead>\n",
       "    <tr style=\"text-align: right;\">\n",
       "      <th></th>\n",
       "      <th>po_nbr</th>\n",
       "      <th>present_inv</th>\n",
       "      <th>lead_time</th>\n",
       "      <th>total_whpk_qty</th>\n",
       "      <th>fcst_3_mo</th>\n",
       "      <th>fcst_6_mo</th>\n",
       "      <th>fcst_9_mo</th>\n",
       "      <th>sls_1_mo</th>\n",
       "      <th>sls_3_mo</th>\n",
       "      <th>sls_6_mo</th>\n",
       "      <th>sls_9_mo</th>\n",
       "      <th>minimum_stock_qty</th>\n",
       "      <th>spare_parts_overdue</th>\n",
       "      <th>avg_ratings_6_mo</th>\n",
       "      <th>avg_ratings_12_mo</th>\n",
       "      <th>stock_overdue</th>\n",
       "    </tr>\n",
       "  </thead>\n",
       "  <tbody>\n",
       "    <tr>\n",
       "      <th>count</th>\n",
       "      <td>1.929940e+05</td>\n",
       "      <td>1.929940e+05</td>\n",
       "      <td>181317.000000</td>\n",
       "      <td>192994.000000</td>\n",
       "      <td>1.929940e+05</td>\n",
       "      <td>1.929940e+05</td>\n",
       "      <td>1.929940e+05</td>\n",
       "      <td>192994.000000</td>\n",
       "      <td>1.929940e+05</td>\n",
       "      <td>1.929940e+05</td>\n",
       "      <td>1.929940e+05</td>\n",
       "      <td>192994.000000</td>\n",
       "      <td>192994.000000</td>\n",
       "      <td>192994.000000</td>\n",
       "      <td>192994.000000</td>\n",
       "      <td>192994.000000</td>\n",
       "    </tr>\n",
       "    <tr>\n",
       "      <th>mean</th>\n",
       "      <td>2.256478e+06</td>\n",
       "      <td>4.071565e+02</td>\n",
       "      <td>7.857542</td>\n",
       "      <td>49.897406</td>\n",
       "      <td>1.916102e+02</td>\n",
       "      <td>3.689133e+02</td>\n",
       "      <td>5.411289e+02</td>\n",
       "      <td>60.369006</td>\n",
       "      <td>1.896981e+02</td>\n",
       "      <td>3.686664e+02</td>\n",
       "      <td>5.642267e+02</td>\n",
       "      <td>56.626481</td>\n",
       "      <td>2.907225</td>\n",
       "      <td>-6.914761</td>\n",
       "      <td>-6.504727</td>\n",
       "      <td>0.722162</td>\n",
       "    </tr>\n",
       "    <tr>\n",
       "      <th>std</th>\n",
       "      <td>7.644566e+05</td>\n",
       "      <td>7.308631e+03</td>\n",
       "      <td>6.995806</td>\n",
       "      <td>1669.073170</td>\n",
       "      <td>5.743923e+03</td>\n",
       "      <td>1.137062e+04</td>\n",
       "      <td>1.694249e+04</td>\n",
       "      <td>2115.744453</td>\n",
       "      <td>6.265479e+03</td>\n",
       "      <td>1.163180e+04</td>\n",
       "      <td>1.800806e+04</td>\n",
       "      <td>1612.953221</td>\n",
       "      <td>411.985042</td>\n",
       "      <td>26.622844</td>\n",
       "      <td>25.952688</td>\n",
       "      <td>38.620386</td>\n",
       "    </tr>\n",
       "    <tr>\n",
       "      <th>min</th>\n",
       "      <td>1.045867e+06</td>\n",
       "      <td>-1.349100e+04</td>\n",
       "      <td>0.000000</td>\n",
       "      <td>0.000000</td>\n",
       "      <td>0.000000e+00</td>\n",
       "      <td>0.000000e+00</td>\n",
       "      <td>0.000000e+00</td>\n",
       "      <td>0.000000</td>\n",
       "      <td>0.000000e+00</td>\n",
       "      <td>0.000000e+00</td>\n",
       "      <td>0.000000e+00</td>\n",
       "      <td>0.000000</td>\n",
       "      <td>0.000000</td>\n",
       "      <td>-99.000000</td>\n",
       "      <td>-99.000000</td>\n",
       "      <td>0.000000</td>\n",
       "    </tr>\n",
       "    <tr>\n",
       "      <th>25%</th>\n",
       "      <td>1.594203e+06</td>\n",
       "      <td>4.000000e+00</td>\n",
       "      <td>4.000000</td>\n",
       "      <td>0.000000</td>\n",
       "      <td>0.000000e+00</td>\n",
       "      <td>0.000000e+00</td>\n",
       "      <td>0.000000e+00</td>\n",
       "      <td>0.000000</td>\n",
       "      <td>0.000000e+00</td>\n",
       "      <td>0.000000e+00</td>\n",
       "      <td>0.000000e+00</td>\n",
       "      <td>0.000000</td>\n",
       "      <td>0.000000</td>\n",
       "      <td>0.630000</td>\n",
       "      <td>0.660000</td>\n",
       "      <td>0.000000</td>\n",
       "    </tr>\n",
       "    <tr>\n",
       "      <th>50%</th>\n",
       "      <td>2.072349e+06</td>\n",
       "      <td>1.500000e+01</td>\n",
       "      <td>8.000000</td>\n",
       "      <td>0.000000</td>\n",
       "      <td>0.000000e+00</td>\n",
       "      <td>0.000000e+00</td>\n",
       "      <td>0.000000e+00</td>\n",
       "      <td>0.000000</td>\n",
       "      <td>1.000000e+00</td>\n",
       "      <td>2.000000e+00</td>\n",
       "      <td>4.000000e+00</td>\n",
       "      <td>0.000000</td>\n",
       "      <td>0.000000</td>\n",
       "      <td>0.820000</td>\n",
       "      <td>0.810000</td>\n",
       "      <td>0.000000</td>\n",
       "    </tr>\n",
       "    <tr>\n",
       "      <th>75%</th>\n",
       "      <td>3.041604e+06</td>\n",
       "      <td>8.000000e+01</td>\n",
       "      <td>9.000000</td>\n",
       "      <td>0.000000</td>\n",
       "      <td>4.000000e+00</td>\n",
       "      <td>1.200000e+01</td>\n",
       "      <td>2.000000e+01</td>\n",
       "      <td>4.000000</td>\n",
       "      <td>1.500000e+01</td>\n",
       "      <td>3.100000e+01</td>\n",
       "      <td>4.700000e+01</td>\n",
       "      <td>3.000000</td>\n",
       "      <td>0.000000</td>\n",
       "      <td>0.960000</td>\n",
       "      <td>0.950000</td>\n",
       "      <td>0.000000</td>\n",
       "    </tr>\n",
       "    <tr>\n",
       "      <th>max</th>\n",
       "      <td>3.526980e+06</td>\n",
       "      <td>1.370327e+06</td>\n",
       "      <td>52.000000</td>\n",
       "      <td>328060.000000</td>\n",
       "      <td>1.218328e+06</td>\n",
       "      <td>2.461360e+06</td>\n",
       "      <td>3.777304e+06</td>\n",
       "      <td>366191.000000</td>\n",
       "      <td>1.084974e+06</td>\n",
       "      <td>2.146625e+06</td>\n",
       "      <td>3.197338e+06</td>\n",
       "      <td>311423.000000</td>\n",
       "      <td>137625.000000</td>\n",
       "      <td>1.000000</td>\n",
       "      <td>1.000000</td>\n",
       "      <td>6544.000000</td>\n",
       "    </tr>\n",
       "  </tbody>\n",
       "</table>\n",
       "</div>"
      ],
      "text/plain": [
       "             po_nbr   present_inv      lead_time  total_whpk_qty  \\\n",
       "count  1.929940e+05  1.929940e+05  181317.000000   192994.000000   \n",
       "mean   2.256478e+06  4.071565e+02       7.857542       49.897406   \n",
       "std    7.644566e+05  7.308631e+03       6.995806     1669.073170   \n",
       "min    1.045867e+06 -1.349100e+04       0.000000        0.000000   \n",
       "25%    1.594203e+06  4.000000e+00       4.000000        0.000000   \n",
       "50%    2.072349e+06  1.500000e+01       8.000000        0.000000   \n",
       "75%    3.041604e+06  8.000000e+01       9.000000        0.000000   \n",
       "max    3.526980e+06  1.370327e+06      52.000000   328060.000000   \n",
       "\n",
       "          fcst_3_mo     fcst_6_mo     fcst_9_mo       sls_1_mo      sls_3_mo  \\\n",
       "count  1.929940e+05  1.929940e+05  1.929940e+05  192994.000000  1.929940e+05   \n",
       "mean   1.916102e+02  3.689133e+02  5.411289e+02      60.369006  1.896981e+02   \n",
       "std    5.743923e+03  1.137062e+04  1.694249e+04    2115.744453  6.265479e+03   \n",
       "min    0.000000e+00  0.000000e+00  0.000000e+00       0.000000  0.000000e+00   \n",
       "25%    0.000000e+00  0.000000e+00  0.000000e+00       0.000000  0.000000e+00   \n",
       "50%    0.000000e+00  0.000000e+00  0.000000e+00       0.000000  1.000000e+00   \n",
       "75%    4.000000e+00  1.200000e+01  2.000000e+01       4.000000  1.500000e+01   \n",
       "max    1.218328e+06  2.461360e+06  3.777304e+06  366191.000000  1.084974e+06   \n",
       "\n",
       "           sls_6_mo      sls_9_mo  minimum_stock_qty  spare_parts_overdue  \\\n",
       "count  1.929940e+05  1.929940e+05      192994.000000        192994.000000   \n",
       "mean   3.686664e+02  5.642267e+02          56.626481             2.907225   \n",
       "std    1.163180e+04  1.800806e+04        1612.953221           411.985042   \n",
       "min    0.000000e+00  0.000000e+00           0.000000             0.000000   \n",
       "25%    0.000000e+00  0.000000e+00           0.000000             0.000000   \n",
       "50%    2.000000e+00  4.000000e+00           0.000000             0.000000   \n",
       "75%    3.100000e+01  4.700000e+01           3.000000             0.000000   \n",
       "max    2.146625e+06  3.197338e+06      311423.000000        137625.000000   \n",
       "\n",
       "       avg_ratings_6_mo  avg_ratings_12_mo  stock_overdue  \n",
       "count     192994.000000      192994.000000  192994.000000  \n",
       "mean          -6.914761          -6.504727       0.722162  \n",
       "std           26.622844          25.952688      38.620386  \n",
       "min          -99.000000         -99.000000       0.000000  \n",
       "25%            0.630000           0.660000       0.000000  \n",
       "50%            0.820000           0.810000       0.000000  \n",
       "75%            0.960000           0.950000       0.000000  \n",
       "max            1.000000           1.000000    6544.000000  "
      ]
     },
     "execution_count": 195,
     "metadata": {},
     "output_type": "execute_result"
    }
   ],
   "source": [
    "df.describe() #0.04"
   ]
  },
  {
   "cell_type": "code",
   "execution_count": 202,
   "metadata": {},
   "outputs": [
    {
     "name": "stdout",
     "output_type": "stream",
     "text": [
      "Number of rows in dataframe df :  192994  and Number of unique IDs in dataframe df :  192994\n"
     ]
    }
   ],
   "source": [
    "print(\"Number of rows in dataframe df : \",df.shape[0],\" and Number of unique IDs in dataframe df : \",len(df.po_nbr.unique()))"
   ]
  },
  {
   "cell_type": "code",
   "execution_count": 200,
   "metadata": {},
   "outputs": [
    {
     "data": {
      "text/plain": [
       "No     191582\n",
       "Yes      1412\n",
       "Name: out_of_stock, dtype: int64"
      ]
     },
     "execution_count": 200,
     "metadata": {},
     "output_type": "execute_result"
    }
   ],
   "source": [
    "df['out_of_stock'].value_counts()"
   ]
  },
  {
   "cell_type": "code",
   "execution_count": 201,
   "metadata": {},
   "outputs": [
    {
     "name": "stdout",
     "output_type": "stream",
     "text": [
      "po_nbr : 192994\n",
      "present_inv : 5612\n",
      "lead_time : 32\n",
      "total_whpk_qty : 1812\n",
      "fcst_3_mo : 2857\n",
      "fcst_6_mo : 3954\n",
      "fcst_9_mo : 4793\n",
      "sls_1_mo : 2012\n",
      "sls_3_mo : 3631\n",
      "sls_6_mo : 5111\n",
      "sls_9_mo : 6207\n",
      "minimum_stock_qty : 1984\n",
      "identified_defect : 2\n",
      "spare_parts_overdue : 312\n",
      "avg_ratings_6_mo : 102\n",
      "avg_ratings_12_mo : 102\n",
      "stock_overdue : 236\n",
      "internal_risk1 : 2\n",
      "internal_risk2 : 2\n",
      "production_quality_risk : 2\n",
      "pdt_recsys : 2\n",
      "internal_risk3 : 2\n",
      "out_of_stock : 2\n"
     ]
    }
   ],
   "source": [
    "for i in df.columns:\n",
    "    print(i,':',df[i].nunique())"
   ]
  },
  {
   "cell_type": "code",
   "execution_count": 203,
   "metadata": {},
   "outputs": [
    {
     "name": "stdout",
     "output_type": "stream",
     "text": [
      "3147775    1\n",
      "3501319    1\n",
      "2949032    1\n",
      "2219281    1\n",
      "3265808    1\n",
      "          ..\n",
      "2175731    1\n",
      "1206614    1\n",
      "1132151    1\n",
      "3261165    1\n",
      "2885633    1\n",
      "Name: po_nbr, Length: 192994, dtype: int64\n",
      "\n",
      "\n",
      "0.0       12449\n",
      "2.0       12248\n",
      "3.0       10538\n",
      "4.0        7827\n",
      "5.0        6811\n",
      "          ...  \n",
      "9617.0        1\n",
      "3081.0        1\n",
      "5005.0        1\n",
      "7591.0        1\n",
      "4152.0        1\n",
      "Name: present_inv, Length: 5612, dtype: int64\n",
      "\n",
      "\n",
      "8.0     78313\n",
      "2.0     38574\n",
      "12.0    22780\n",
      "4.0     14757\n",
      "9.0     13934\n",
      "52.0     3358\n",
      "3.0      1728\n",
      "10.0     1600\n",
      "14.0     1205\n",
      "0.0      1198\n",
      "16.0     1052\n",
      "13.0      596\n",
      "6.0       578\n",
      "17.0      465\n",
      "15.0      419\n",
      "5.0       417\n",
      "11.0      119\n",
      "20.0       54\n",
      "30.0       44\n",
      "18.0       37\n",
      "22.0       20\n",
      "7.0        14\n",
      "24.0       13\n",
      "26.0       10\n",
      "21.0        8\n",
      "28.0        6\n",
      "40.0        6\n",
      "1.0         4\n",
      "23.0        3\n",
      "19.0        2\n",
      "35.0        2\n",
      "25.0        1\n",
      "Name: lead_time, dtype: int64\n",
      "\n",
      "\n",
      "0.0        154038\n",
      "1.0          4117\n",
      "2.0          2496\n",
      "3.0          1953\n",
      "4.0          1736\n",
      "            ...  \n",
      "1803.0          1\n",
      "3607.0          1\n",
      "2584.0          1\n",
      "2724.0          1\n",
      "24672.0         1\n",
      "Name: total_whpk_qty, Length: 1812, dtype: int64\n",
      "\n",
      "\n",
      "0.0        134445\n",
      "1.0          3511\n",
      "2.0          3057\n",
      "5.0          2274\n",
      "4.0          2110\n",
      "            ...  \n",
      "1878.0          1\n",
      "27350.0         1\n",
      "934.0           1\n",
      "895.0           1\n",
      "2104.0          1\n",
      "Name: fcst_3_mo, Length: 2857, dtype: int64\n",
      "\n",
      "\n",
      "0.0        123726\n",
      "1.0          3167\n",
      "2.0          2893\n",
      "3.0          2377\n",
      "4.0          2144\n",
      "            ...  \n",
      "39906.0         1\n",
      "1247.0          1\n",
      "1755.0          1\n",
      "7886.0          1\n",
      "3114.0          1\n",
      "Name: fcst_6_mo, Length: 3954, dtype: int64\n",
      "\n",
      "\n",
      "0.0        117886\n",
      "1.0          3044\n",
      "2.0          2938\n",
      "3.0          2320\n",
      "4.0          2186\n",
      "            ...  \n",
      "1033.0          1\n",
      "3408.0          1\n",
      "15466.0         1\n",
      "2599.0          1\n",
      "66432.0         1\n",
      "Name: fcst_9_mo, Length: 4793, dtype: int64\n",
      "\n",
      "\n",
      "0.0       109963\n",
      "1.0        16360\n",
      "2.0         8965\n",
      "3.0         5654\n",
      "4.0         4382\n",
      "           ...  \n",
      "7157.0         1\n",
      "5736.0         1\n",
      "2557.0         1\n",
      "554.0          1\n",
      "4152.0         1\n",
      "Name: sls_1_mo, Length: 2012, dtype: int64\n",
      "\n",
      "\n",
      "0.0        86807\n",
      "1.0        15555\n",
      "2.0         9386\n",
      "3.0         6089\n",
      "4.0         4739\n",
      "           ...  \n",
      "56650.0        1\n",
      "3541.0         1\n",
      "5035.0         1\n",
      "10073.0        1\n",
      "8190.0         1\n",
      "Name: sls_3_mo, Length: 3631, dtype: int64\n",
      "\n",
      "\n",
      "0.0         73973\n",
      "1.0         14554\n",
      "2.0          8927\n",
      "3.0          6056\n",
      "4.0          4726\n",
      "            ...  \n",
      "2613.0          1\n",
      "20760.0         1\n",
      "3551.0          1\n",
      "115780.0        1\n",
      "8408.0          1\n",
      "Name: sls_6_mo, Length: 5111, dtype: int64\n",
      "\n",
      "\n",
      "0.0        66991\n",
      "1.0        13726\n",
      "2.0         8820\n",
      "3.0         5910\n",
      "4.0         4622\n",
      "           ...  \n",
      "83226.0        1\n",
      "10403.0        1\n",
      "7247.0         1\n",
      "1973.0         1\n",
      "20313.0        1\n",
      "Name: sls_9_mo, Length: 6207, dtype: int64\n",
      "\n",
      "\n",
      "0.0       99185\n",
      "1.0       28922\n",
      "2.0       13049\n",
      "3.0        4248\n",
      "4.0        2478\n",
      "          ...  \n",
      "2380.0        1\n",
      "1323.0        1\n",
      "1484.0        1\n",
      "9515.0        1\n",
      "2104.0        1\n",
      "Name: minimum_stock_qty, Length: 1984, dtype: int64\n",
      "\n",
      "\n",
      "No     192899\n",
      "Yes        95\n",
      "Name: identified_defect, dtype: int64\n",
      "\n",
      "\n",
      "0.0       190148\n",
      "1.0          444\n",
      "2.0          262\n",
      "4.0          141\n",
      "3.0          127\n",
      "           ...  \n",
      "355.0          1\n",
      "356.0          1\n",
      "130.0          1\n",
      "1430.0         1\n",
      "135.0          1\n",
      "Name: spare_parts_overdue, Length: 312, dtype: int64\n",
      "\n",
      "\n",
      " 0.99     16379\n",
      " 1.00     15030\n",
      "-99.00    14886\n",
      " 0.73     12828\n",
      " 0.98      9626\n",
      "          ...  \n",
      " 0.03        93\n",
      " 0.20        86\n",
      " 0.01        70\n",
      " 0.04        66\n",
      " 0.29        49\n",
      "Name: avg_ratings_6_mo, Length: 102, dtype: int64\n",
      "\n",
      "\n",
      " 0.99     15243\n",
      "-99.00    14084\n",
      " 0.78     13124\n",
      " 0.98     10512\n",
      " 0.97      7369\n",
      "          ...  \n",
      " 0.06        95\n",
      " 0.30        92\n",
      " 0.03        79\n",
      " 0.05        70\n",
      " 0.02        37\n",
      "Name: avg_ratings_12_mo, Length: 102, dtype: int64\n",
      "\n",
      "\n",
      "0.0       190332\n",
      "1.0          830\n",
      "2.0          351\n",
      "3.0          193\n",
      "4.0          136\n",
      "           ...  \n",
      "165.0          1\n",
      "114.0          1\n",
      "47.0           1\n",
      "5200.0         1\n",
      "766.0          1\n",
      "Name: stock_overdue, Length: 236, dtype: int64\n",
      "\n",
      "\n",
      "No     149216\n",
      "Yes     43778\n",
      "Name: internal_risk1, dtype: int64\n",
      "\n",
      "\n",
      "No     192956\n",
      "Yes        38\n",
      "Name: internal_risk2, dtype: int64\n",
      "\n",
      "\n",
      "No     169860\n",
      "Yes     23134\n",
      "Name: production_quality_risk, dtype: int64\n",
      "\n",
      "\n",
      "Yes    185952\n",
      "No       7042\n",
      "Name: pdt_recsys, dtype: int64\n",
      "\n",
      "\n",
      "No     192923\n",
      "Yes        71\n",
      "Name: internal_risk3, dtype: int64\n",
      "\n",
      "\n",
      "No     191582\n",
      "Yes      1412\n",
      "Name: out_of_stock, dtype: int64\n",
      "\n",
      "\n"
     ]
    }
   ],
   "source": [
    "for i in df.columns:\n",
    "    print(df[i].value_counts())\n",
    "    print(\"\\n\")"
   ]
  },
  {
   "cell_type": "markdown",
   "metadata": {},
   "source": [
    "# EDA"
   ]
  },
  {
   "cell_type": "code",
   "execution_count": 179,
   "metadata": {},
   "outputs": [],
   "source": [
    "df = pd.read_csv(\"sample.csv\",index_col=0)"
   ]
  },
  {
   "cell_type": "code",
   "execution_count": 180,
   "metadata": {},
   "outputs": [
    {
     "data": {
      "text/html": [
       "<div>\n",
       "<style scoped>\n",
       "    .dataframe tbody tr th:only-of-type {\n",
       "        vertical-align: middle;\n",
       "    }\n",
       "\n",
       "    .dataframe tbody tr th {\n",
       "        vertical-align: top;\n",
       "    }\n",
       "\n",
       "    .dataframe thead th {\n",
       "        text-align: right;\n",
       "    }\n",
       "</style>\n",
       "<table border=\"1\" class=\"dataframe\">\n",
       "  <thead>\n",
       "    <tr style=\"text-align: right;\">\n",
       "      <th></th>\n",
       "      <th>po_nbr</th>\n",
       "      <th>present_inv</th>\n",
       "      <th>lead_time</th>\n",
       "      <th>total_whpk_qty</th>\n",
       "      <th>fcst_3_mo</th>\n",
       "      <th>fcst_6_mo</th>\n",
       "      <th>fcst_9_mo</th>\n",
       "      <th>sls_1_mo</th>\n",
       "      <th>sls_3_mo</th>\n",
       "      <th>sls_6_mo</th>\n",
       "      <th>...</th>\n",
       "      <th>spare_parts_overdue</th>\n",
       "      <th>avg_ratings_6_mo</th>\n",
       "      <th>avg_ratings_12_mo</th>\n",
       "      <th>stock_overdue</th>\n",
       "      <th>internal_risk1</th>\n",
       "      <th>internal_risk2</th>\n",
       "      <th>production_quality_risk</th>\n",
       "      <th>pdt_recsys</th>\n",
       "      <th>internal_risk3</th>\n",
       "      <th>out_of_stock</th>\n",
       "    </tr>\n",
       "  </thead>\n",
       "  <tbody>\n",
       "    <tr>\n",
       "      <th>1259895</th>\n",
       "      <td>2842257</td>\n",
       "      <td>415.0</td>\n",
       "      <td>NaN</td>\n",
       "      <td>0.0</td>\n",
       "      <td>0.0</td>\n",
       "      <td>0.0</td>\n",
       "      <td>0.0</td>\n",
       "      <td>0.0</td>\n",
       "      <td>3.0</td>\n",
       "      <td>28.0</td>\n",
       "      <td>...</td>\n",
       "      <td>0.0</td>\n",
       "      <td>-99.00</td>\n",
       "      <td>-99.00</td>\n",
       "      <td>0.0</td>\n",
       "      <td>Yes</td>\n",
       "      <td>No</td>\n",
       "      <td>No</td>\n",
       "      <td>No</td>\n",
       "      <td>No</td>\n",
       "      <td>No</td>\n",
       "    </tr>\n",
       "    <tr>\n",
       "      <th>1453574</th>\n",
       "      <td>3043795</td>\n",
       "      <td>10.0</td>\n",
       "      <td>2.0</td>\n",
       "      <td>0.0</td>\n",
       "      <td>0.0</td>\n",
       "      <td>0.0</td>\n",
       "      <td>0.0</td>\n",
       "      <td>0.0</td>\n",
       "      <td>0.0</td>\n",
       "      <td>0.0</td>\n",
       "      <td>...</td>\n",
       "      <td>0.0</td>\n",
       "      <td>0.00</td>\n",
       "      <td>0.05</td>\n",
       "      <td>0.0</td>\n",
       "      <td>Yes</td>\n",
       "      <td>No</td>\n",
       "      <td>No</td>\n",
       "      <td>Yes</td>\n",
       "      <td>No</td>\n",
       "      <td>No</td>\n",
       "    </tr>\n",
       "    <tr>\n",
       "      <th>602282</th>\n",
       "      <td>1950252</td>\n",
       "      <td>71.0</td>\n",
       "      <td>8.0</td>\n",
       "      <td>6.0</td>\n",
       "      <td>100.0</td>\n",
       "      <td>140.0</td>\n",
       "      <td>160.0</td>\n",
       "      <td>14.0</td>\n",
       "      <td>35.0</td>\n",
       "      <td>71.0</td>\n",
       "      <td>...</td>\n",
       "      <td>0.0</td>\n",
       "      <td>0.93</td>\n",
       "      <td>0.94</td>\n",
       "      <td>0.0</td>\n",
       "      <td>No</td>\n",
       "      <td>No</td>\n",
       "      <td>No</td>\n",
       "      <td>Yes</td>\n",
       "      <td>No</td>\n",
       "      <td>No</td>\n",
       "    </tr>\n",
       "    <tr>\n",
       "      <th>480648</th>\n",
       "      <td>1828636</td>\n",
       "      <td>5.0</td>\n",
       "      <td>9.0</td>\n",
       "      <td>0.0</td>\n",
       "      <td>0.0</td>\n",
       "      <td>0.0</td>\n",
       "      <td>0.0</td>\n",
       "      <td>0.0</td>\n",
       "      <td>0.0</td>\n",
       "      <td>0.0</td>\n",
       "      <td>...</td>\n",
       "      <td>0.0</td>\n",
       "      <td>0.99</td>\n",
       "      <td>0.96</td>\n",
       "      <td>0.0</td>\n",
       "      <td>No</td>\n",
       "      <td>No</td>\n",
       "      <td>No</td>\n",
       "      <td>Yes</td>\n",
       "      <td>No</td>\n",
       "      <td>No</td>\n",
       "    </tr>\n",
       "    <tr>\n",
       "      <th>201010</th>\n",
       "      <td>1312565</td>\n",
       "      <td>63.0</td>\n",
       "      <td>2.0</td>\n",
       "      <td>0.0</td>\n",
       "      <td>0.0</td>\n",
       "      <td>0.0</td>\n",
       "      <td>0.0</td>\n",
       "      <td>0.0</td>\n",
       "      <td>0.0</td>\n",
       "      <td>24.0</td>\n",
       "      <td>...</td>\n",
       "      <td>0.0</td>\n",
       "      <td>0.69</td>\n",
       "      <td>0.40</td>\n",
       "      <td>0.0</td>\n",
       "      <td>Yes</td>\n",
       "      <td>No</td>\n",
       "      <td>No</td>\n",
       "      <td>Yes</td>\n",
       "      <td>No</td>\n",
       "      <td>No</td>\n",
       "    </tr>\n",
       "  </tbody>\n",
       "</table>\n",
       "<p>5 rows × 23 columns</p>\n",
       "</div>"
      ],
      "text/plain": [
       "          po_nbr  present_inv  lead_time  total_whpk_qty  fcst_3_mo  \\\n",
       "1259895  2842257        415.0        NaN             0.0        0.0   \n",
       "1453574  3043795         10.0        2.0             0.0        0.0   \n",
       "602282   1950252         71.0        8.0             6.0      100.0   \n",
       "480648   1828636          5.0        9.0             0.0        0.0   \n",
       "201010   1312565         63.0        2.0             0.0        0.0   \n",
       "\n",
       "         fcst_6_mo  fcst_9_mo  sls_1_mo  sls_3_mo  sls_6_mo  ...  \\\n",
       "1259895        0.0        0.0       0.0       3.0      28.0  ...   \n",
       "1453574        0.0        0.0       0.0       0.0       0.0  ...   \n",
       "602282       140.0      160.0      14.0      35.0      71.0  ...   \n",
       "480648         0.0        0.0       0.0       0.0       0.0  ...   \n",
       "201010         0.0        0.0       0.0       0.0      24.0  ...   \n",
       "\n",
       "         spare_parts_overdue  avg_ratings_6_mo avg_ratings_12_mo  \\\n",
       "1259895                  0.0            -99.00            -99.00   \n",
       "1453574                  0.0              0.00              0.05   \n",
       "602282                   0.0              0.93              0.94   \n",
       "480648                   0.0              0.99              0.96   \n",
       "201010                   0.0              0.69              0.40   \n",
       "\n",
       "         stock_overdue  internal_risk1  internal_risk2  \\\n",
       "1259895            0.0             Yes              No   \n",
       "1453574            0.0             Yes              No   \n",
       "602282             0.0              No              No   \n",
       "480648             0.0              No              No   \n",
       "201010             0.0             Yes              No   \n",
       "\n",
       "         production_quality_risk pdt_recsys internal_risk3 out_of_stock  \n",
       "1259895                       No         No             No           No  \n",
       "1453574                       No        Yes             No           No  \n",
       "602282                        No        Yes             No           No  \n",
       "480648                        No        Yes             No           No  \n",
       "201010                        No        Yes             No           No  \n",
       "\n",
       "[5 rows x 23 columns]"
      ]
     },
     "execution_count": 180,
     "metadata": {},
     "output_type": "execute_result"
    }
   ],
   "source": [
    "df.head()"
   ]
  },
  {
   "cell_type": "code",
   "execution_count": 181,
   "metadata": {
    "scrolled": true
   },
   "outputs": [
    {
     "data": {
      "text/html": [
       "<div>\n",
       "<style scoped>\n",
       "    .dataframe tbody tr th:only-of-type {\n",
       "        vertical-align: middle;\n",
       "    }\n",
       "\n",
       "    .dataframe tbody tr th {\n",
       "        vertical-align: top;\n",
       "    }\n",
       "\n",
       "    .dataframe thead th {\n",
       "        text-align: right;\n",
       "    }\n",
       "</style>\n",
       "<table border=\"1\" class=\"dataframe\">\n",
       "  <thead>\n",
       "    <tr style=\"text-align: right;\">\n",
       "      <th></th>\n",
       "      <th>po_nbr</th>\n",
       "      <th>present_inv</th>\n",
       "      <th>lead_time</th>\n",
       "      <th>total_whpk_qty</th>\n",
       "      <th>fcst_3_mo</th>\n",
       "      <th>fcst_6_mo</th>\n",
       "      <th>fcst_9_mo</th>\n",
       "      <th>sls_1_mo</th>\n",
       "      <th>sls_3_mo</th>\n",
       "      <th>sls_6_mo</th>\n",
       "      <th>...</th>\n",
       "      <th>spare_parts_overdue</th>\n",
       "      <th>avg_ratings_6_mo</th>\n",
       "      <th>avg_ratings_12_mo</th>\n",
       "      <th>stock_overdue</th>\n",
       "      <th>internal_risk1</th>\n",
       "      <th>internal_risk2</th>\n",
       "      <th>production_quality_risk</th>\n",
       "      <th>pdt_recsys</th>\n",
       "      <th>internal_risk3</th>\n",
       "      <th>out_of_stock</th>\n",
       "    </tr>\n",
       "  </thead>\n",
       "  <tbody>\n",
       "    <tr>\n",
       "      <th>0</th>\n",
       "      <td>2842257</td>\n",
       "      <td>415.0</td>\n",
       "      <td>NaN</td>\n",
       "      <td>0.0</td>\n",
       "      <td>0.0</td>\n",
       "      <td>0.0</td>\n",
       "      <td>0.0</td>\n",
       "      <td>0.0</td>\n",
       "      <td>3.0</td>\n",
       "      <td>28.0</td>\n",
       "      <td>...</td>\n",
       "      <td>0.0</td>\n",
       "      <td>-99.00</td>\n",
       "      <td>-99.00</td>\n",
       "      <td>0.0</td>\n",
       "      <td>Yes</td>\n",
       "      <td>No</td>\n",
       "      <td>No</td>\n",
       "      <td>No</td>\n",
       "      <td>No</td>\n",
       "      <td>No</td>\n",
       "    </tr>\n",
       "    <tr>\n",
       "      <th>1</th>\n",
       "      <td>3043795</td>\n",
       "      <td>10.0</td>\n",
       "      <td>2.0</td>\n",
       "      <td>0.0</td>\n",
       "      <td>0.0</td>\n",
       "      <td>0.0</td>\n",
       "      <td>0.0</td>\n",
       "      <td>0.0</td>\n",
       "      <td>0.0</td>\n",
       "      <td>0.0</td>\n",
       "      <td>...</td>\n",
       "      <td>0.0</td>\n",
       "      <td>0.00</td>\n",
       "      <td>0.05</td>\n",
       "      <td>0.0</td>\n",
       "      <td>Yes</td>\n",
       "      <td>No</td>\n",
       "      <td>No</td>\n",
       "      <td>Yes</td>\n",
       "      <td>No</td>\n",
       "      <td>No</td>\n",
       "    </tr>\n",
       "    <tr>\n",
       "      <th>2</th>\n",
       "      <td>1950252</td>\n",
       "      <td>71.0</td>\n",
       "      <td>8.0</td>\n",
       "      <td>6.0</td>\n",
       "      <td>100.0</td>\n",
       "      <td>140.0</td>\n",
       "      <td>160.0</td>\n",
       "      <td>14.0</td>\n",
       "      <td>35.0</td>\n",
       "      <td>71.0</td>\n",
       "      <td>...</td>\n",
       "      <td>0.0</td>\n",
       "      <td>0.93</td>\n",
       "      <td>0.94</td>\n",
       "      <td>0.0</td>\n",
       "      <td>No</td>\n",
       "      <td>No</td>\n",
       "      <td>No</td>\n",
       "      <td>Yes</td>\n",
       "      <td>No</td>\n",
       "      <td>No</td>\n",
       "    </tr>\n",
       "    <tr>\n",
       "      <th>3</th>\n",
       "      <td>1828636</td>\n",
       "      <td>5.0</td>\n",
       "      <td>9.0</td>\n",
       "      <td>0.0</td>\n",
       "      <td>0.0</td>\n",
       "      <td>0.0</td>\n",
       "      <td>0.0</td>\n",
       "      <td>0.0</td>\n",
       "      <td>0.0</td>\n",
       "      <td>0.0</td>\n",
       "      <td>...</td>\n",
       "      <td>0.0</td>\n",
       "      <td>0.99</td>\n",
       "      <td>0.96</td>\n",
       "      <td>0.0</td>\n",
       "      <td>No</td>\n",
       "      <td>No</td>\n",
       "      <td>No</td>\n",
       "      <td>Yes</td>\n",
       "      <td>No</td>\n",
       "      <td>No</td>\n",
       "    </tr>\n",
       "    <tr>\n",
       "      <th>4</th>\n",
       "      <td>1312565</td>\n",
       "      <td>63.0</td>\n",
       "      <td>2.0</td>\n",
       "      <td>0.0</td>\n",
       "      <td>0.0</td>\n",
       "      <td>0.0</td>\n",
       "      <td>0.0</td>\n",
       "      <td>0.0</td>\n",
       "      <td>0.0</td>\n",
       "      <td>24.0</td>\n",
       "      <td>...</td>\n",
       "      <td>0.0</td>\n",
       "      <td>0.69</td>\n",
       "      <td>0.40</td>\n",
       "      <td>0.0</td>\n",
       "      <td>Yes</td>\n",
       "      <td>No</td>\n",
       "      <td>No</td>\n",
       "      <td>Yes</td>\n",
       "      <td>No</td>\n",
       "      <td>No</td>\n",
       "    </tr>\n",
       "  </tbody>\n",
       "</table>\n",
       "<p>5 rows × 23 columns</p>\n",
       "</div>"
      ],
      "text/plain": [
       "    po_nbr  present_inv  lead_time  total_whpk_qty  fcst_3_mo  fcst_6_mo  \\\n",
       "0  2842257        415.0        NaN             0.0        0.0        0.0   \n",
       "1  3043795         10.0        2.0             0.0        0.0        0.0   \n",
       "2  1950252         71.0        8.0             6.0      100.0      140.0   \n",
       "3  1828636          5.0        9.0             0.0        0.0        0.0   \n",
       "4  1312565         63.0        2.0             0.0        0.0        0.0   \n",
       "\n",
       "   fcst_9_mo  sls_1_mo  sls_3_mo  sls_6_mo  ...  spare_parts_overdue  \\\n",
       "0        0.0       0.0       3.0      28.0  ...                  0.0   \n",
       "1        0.0       0.0       0.0       0.0  ...                  0.0   \n",
       "2      160.0      14.0      35.0      71.0  ...                  0.0   \n",
       "3        0.0       0.0       0.0       0.0  ...                  0.0   \n",
       "4        0.0       0.0       0.0      24.0  ...                  0.0   \n",
       "\n",
       "   avg_ratings_6_mo avg_ratings_12_mo  stock_overdue  internal_risk1  \\\n",
       "0            -99.00            -99.00            0.0             Yes   \n",
       "1              0.00              0.05            0.0             Yes   \n",
       "2              0.93              0.94            0.0              No   \n",
       "3              0.99              0.96            0.0              No   \n",
       "4              0.69              0.40            0.0             Yes   \n",
       "\n",
       "   internal_risk2  production_quality_risk pdt_recsys internal_risk3  \\\n",
       "0              No                       No         No             No   \n",
       "1              No                       No        Yes             No   \n",
       "2              No                       No        Yes             No   \n",
       "3              No                       No        Yes             No   \n",
       "4              No                       No        Yes             No   \n",
       "\n",
       "  out_of_stock  \n",
       "0           No  \n",
       "1           No  \n",
       "2           No  \n",
       "3           No  \n",
       "4           No  \n",
       "\n",
       "[5 rows x 23 columns]"
      ]
     },
     "execution_count": 181,
     "metadata": {},
     "output_type": "execute_result"
    }
   ],
   "source": [
    "df = df.reset_index(drop=True)\n",
    "df.head()"
   ]
  },
  {
   "cell_type": "code",
   "execution_count": 186,
   "metadata": {},
   "outputs": [
    {
     "data": {
      "text/html": [
       "<div>\n",
       "<style scoped>\n",
       "    .dataframe tbody tr th:only-of-type {\n",
       "        vertical-align: middle;\n",
       "    }\n",
       "\n",
       "    .dataframe tbody tr th {\n",
       "        vertical-align: top;\n",
       "    }\n",
       "\n",
       "    .dataframe thead th {\n",
       "        text-align: right;\n",
       "    }\n",
       "</style>\n",
       "<table border=\"1\" class=\"dataframe\">\n",
       "  <thead>\n",
       "    <tr style=\"text-align: right;\">\n",
       "      <th></th>\n",
       "      <th>minimum_stock_qty</th>\n",
       "      <th>identified_defect</th>\n",
       "      <th>spare_parts_overdue</th>\n",
       "      <th>avg_ratings_6_mo</th>\n",
       "      <th>avg_ratings_12_mo</th>\n",
       "      <th>stock_overdue</th>\n",
       "      <th>internal_risk1</th>\n",
       "      <th>internal_risk2</th>\n",
       "      <th>production_quality_risk</th>\n",
       "    </tr>\n",
       "  </thead>\n",
       "  <tbody>\n",
       "    <tr>\n",
       "      <th>0</th>\n",
       "      <td>0.0</td>\n",
       "      <td>No</td>\n",
       "      <td>0.0</td>\n",
       "      <td>-99.00</td>\n",
       "      <td>-99.00</td>\n",
       "      <td>0.0</td>\n",
       "      <td>Yes</td>\n",
       "      <td>No</td>\n",
       "      <td>No</td>\n",
       "    </tr>\n",
       "    <tr>\n",
       "      <th>1</th>\n",
       "      <td>0.0</td>\n",
       "      <td>No</td>\n",
       "      <td>0.0</td>\n",
       "      <td>0.00</td>\n",
       "      <td>0.05</td>\n",
       "      <td>0.0</td>\n",
       "      <td>Yes</td>\n",
       "      <td>No</td>\n",
       "      <td>No</td>\n",
       "    </tr>\n",
       "    <tr>\n",
       "      <th>2</th>\n",
       "      <td>22.0</td>\n",
       "      <td>No</td>\n",
       "      <td>0.0</td>\n",
       "      <td>0.93</td>\n",
       "      <td>0.94</td>\n",
       "      <td>0.0</td>\n",
       "      <td>No</td>\n",
       "      <td>No</td>\n",
       "      <td>No</td>\n",
       "    </tr>\n",
       "    <tr>\n",
       "      <th>3</th>\n",
       "      <td>0.0</td>\n",
       "      <td>No</td>\n",
       "      <td>0.0</td>\n",
       "      <td>0.99</td>\n",
       "      <td>0.96</td>\n",
       "      <td>0.0</td>\n",
       "      <td>No</td>\n",
       "      <td>No</td>\n",
       "      <td>No</td>\n",
       "    </tr>\n",
       "    <tr>\n",
       "      <th>4</th>\n",
       "      <td>1.0</td>\n",
       "      <td>No</td>\n",
       "      <td>0.0</td>\n",
       "      <td>0.69</td>\n",
       "      <td>0.40</td>\n",
       "      <td>0.0</td>\n",
       "      <td>Yes</td>\n",
       "      <td>No</td>\n",
       "      <td>No</td>\n",
       "    </tr>\n",
       "    <tr>\n",
       "      <th>...</th>\n",
       "      <td>...</td>\n",
       "      <td>...</td>\n",
       "      <td>...</td>\n",
       "      <td>...</td>\n",
       "      <td>...</td>\n",
       "      <td>...</td>\n",
       "      <td>...</td>\n",
       "      <td>...</td>\n",
       "      <td>...</td>\n",
       "    </tr>\n",
       "    <tr>\n",
       "      <th>192989</th>\n",
       "      <td>0.0</td>\n",
       "      <td>No</td>\n",
       "      <td>0.0</td>\n",
       "      <td>0.96</td>\n",
       "      <td>0.97</td>\n",
       "      <td>0.0</td>\n",
       "      <td>No</td>\n",
       "      <td>No</td>\n",
       "      <td>No</td>\n",
       "    </tr>\n",
       "    <tr>\n",
       "      <th>192990</th>\n",
       "      <td>0.0</td>\n",
       "      <td>No</td>\n",
       "      <td>0.0</td>\n",
       "      <td>0.91</td>\n",
       "      <td>0.77</td>\n",
       "      <td>0.0</td>\n",
       "      <td>Yes</td>\n",
       "      <td>No</td>\n",
       "      <td>No</td>\n",
       "    </tr>\n",
       "    <tr>\n",
       "      <th>192991</th>\n",
       "      <td>0.0</td>\n",
       "      <td>No</td>\n",
       "      <td>0.0</td>\n",
       "      <td>0.90</td>\n",
       "      <td>0.82</td>\n",
       "      <td>0.0</td>\n",
       "      <td>No</td>\n",
       "      <td>No</td>\n",
       "      <td>No</td>\n",
       "    </tr>\n",
       "    <tr>\n",
       "      <th>192992</th>\n",
       "      <td>0.0</td>\n",
       "      <td>No</td>\n",
       "      <td>0.0</td>\n",
       "      <td>0.10</td>\n",
       "      <td>0.13</td>\n",
       "      <td>0.0</td>\n",
       "      <td>Yes</td>\n",
       "      <td>No</td>\n",
       "      <td>No</td>\n",
       "    </tr>\n",
       "    <tr>\n",
       "      <th>192993</th>\n",
       "      <td>0.0</td>\n",
       "      <td>No</td>\n",
       "      <td>0.0</td>\n",
       "      <td>1.00</td>\n",
       "      <td>1.00</td>\n",
       "      <td>0.0</td>\n",
       "      <td>No</td>\n",
       "      <td>No</td>\n",
       "      <td>No</td>\n",
       "    </tr>\n",
       "  </tbody>\n",
       "</table>\n",
       "<p>192994 rows × 9 columns</p>\n",
       "</div>"
      ],
      "text/plain": [
       "        minimum_stock_qty identified_defect  spare_parts_overdue  \\\n",
       "0                     0.0                No                  0.0   \n",
       "1                     0.0                No                  0.0   \n",
       "2                    22.0                No                  0.0   \n",
       "3                     0.0                No                  0.0   \n",
       "4                     1.0                No                  0.0   \n",
       "...                   ...               ...                  ...   \n",
       "192989                0.0                No                  0.0   \n",
       "192990                0.0                No                  0.0   \n",
       "192991                0.0                No                  0.0   \n",
       "192992                0.0                No                  0.0   \n",
       "192993                0.0                No                  0.0   \n",
       "\n",
       "        avg_ratings_6_mo  avg_ratings_12_mo  stock_overdue internal_risk1  \\\n",
       "0                 -99.00             -99.00            0.0            Yes   \n",
       "1                   0.00               0.05            0.0            Yes   \n",
       "2                   0.93               0.94            0.0             No   \n",
       "3                   0.99               0.96            0.0             No   \n",
       "4                   0.69               0.40            0.0            Yes   \n",
       "...                  ...                ...            ...            ...   \n",
       "192989              0.96               0.97            0.0             No   \n",
       "192990              0.91               0.77            0.0            Yes   \n",
       "192991              0.90               0.82            0.0             No   \n",
       "192992              0.10               0.13            0.0            Yes   \n",
       "192993              1.00               1.00            0.0             No   \n",
       "\n",
       "       internal_risk2 production_quality_risk  \n",
       "0                  No                      No  \n",
       "1                  No                      No  \n",
       "2                  No                      No  \n",
       "3                  No                      No  \n",
       "4                  No                      No  \n",
       "...               ...                     ...  \n",
       "192989             No                      No  \n",
       "192990             No                      No  \n",
       "192991             No                      No  \n",
       "192992             No                      No  \n",
       "192993             No                      No  \n",
       "\n",
       "[192994 rows x 9 columns]"
      ]
     },
     "execution_count": 186,
     "metadata": {},
     "output_type": "execute_result"
    }
   ],
   "source": [
    "df[['minimum_stock_qty', 'identified_defect',\n",
    "       'spare_parts_overdue', 'avg_ratings_6_mo', 'avg_ratings_12_mo',\n",
    "       'stock_overdue', 'internal_risk1', 'internal_risk2',\n",
    "       'production_quality_risk']][]"
   ]
  },
  {
   "cell_type": "code",
   "execution_count": 182,
   "metadata": {},
   "outputs": [
    {
     "data": {
      "text/plain": [
       "Index(['po_nbr', 'present_inv', 'lead_time', 'total_whpk_qty', 'fcst_3_mo',\n",
       "       'fcst_6_mo', 'fcst_9_mo', 'sls_1_mo', 'sls_3_mo', 'sls_6_mo',\n",
       "       'sls_9_mo', 'minimum_stock_qty', 'identified_defect',\n",
       "       'spare_parts_overdue', 'avg_ratings_6_mo', 'avg_ratings_12_mo',\n",
       "       'stock_overdue', 'internal_risk1', 'internal_risk2',\n",
       "       'production_quality_risk', 'pdt_recsys', 'internal_risk3',\n",
       "       'out_of_stock'],\n",
       "      dtype='object')"
      ]
     },
     "execution_count": 182,
     "metadata": {},
     "output_type": "execute_result"
    }
   ],
   "source": [
    "df.columns"
   ]
  },
  {
   "cell_type": "markdown",
   "metadata": {},
   "source": [
    "# EDA"
   ]
  },
  {
   "cell_type": "code",
   "execution_count": 187,
   "metadata": {},
   "outputs": [
    {
     "data": {
      "text/html": [
       "<div>\n",
       "<style scoped>\n",
       "    .dataframe tbody tr th:only-of-type {\n",
       "        vertical-align: middle;\n",
       "    }\n",
       "\n",
       "    .dataframe tbody tr th {\n",
       "        vertical-align: top;\n",
       "    }\n",
       "\n",
       "    .dataframe thead th {\n",
       "        text-align: right;\n",
       "    }\n",
       "</style>\n",
       "<table border=\"1\" class=\"dataframe\">\n",
       "  <thead>\n",
       "    <tr style=\"text-align: right;\">\n",
       "      <th></th>\n",
       "      <th>po_nbr</th>\n",
       "      <th>present_inv</th>\n",
       "      <th>lead_time</th>\n",
       "      <th>total_whpk_qty</th>\n",
       "      <th>fcst_3_mo</th>\n",
       "      <th>fcst_6_mo</th>\n",
       "      <th>fcst_9_mo</th>\n",
       "      <th>sls_1_mo</th>\n",
       "      <th>sls_3_mo</th>\n",
       "      <th>sls_6_mo</th>\n",
       "      <th>...</th>\n",
       "      <th>spare_parts_overdue</th>\n",
       "      <th>avg_ratings_6_mo</th>\n",
       "      <th>avg_ratings_12_mo</th>\n",
       "      <th>stock_overdue</th>\n",
       "      <th>internal_risk1</th>\n",
       "      <th>internal_risk2</th>\n",
       "      <th>production_quality_risk</th>\n",
       "      <th>pdt_recsys</th>\n",
       "      <th>internal_risk3</th>\n",
       "      <th>out_of_stock</th>\n",
       "    </tr>\n",
       "  </thead>\n",
       "  <tbody>\n",
       "    <tr>\n",
       "      <th>0</th>\n",
       "      <td>2842257</td>\n",
       "      <td>415.0</td>\n",
       "      <td>NaN</td>\n",
       "      <td>0.0</td>\n",
       "      <td>0.0</td>\n",
       "      <td>0.0</td>\n",
       "      <td>0.0</td>\n",
       "      <td>0.0</td>\n",
       "      <td>3.0</td>\n",
       "      <td>28.0</td>\n",
       "      <td>...</td>\n",
       "      <td>0.0</td>\n",
       "      <td>-99.00</td>\n",
       "      <td>-99.00</td>\n",
       "      <td>0.0</td>\n",
       "      <td>Yes</td>\n",
       "      <td>No</td>\n",
       "      <td>No</td>\n",
       "      <td>No</td>\n",
       "      <td>No</td>\n",
       "      <td>No</td>\n",
       "    </tr>\n",
       "    <tr>\n",
       "      <th>1</th>\n",
       "      <td>3043795</td>\n",
       "      <td>10.0</td>\n",
       "      <td>2.0</td>\n",
       "      <td>0.0</td>\n",
       "      <td>0.0</td>\n",
       "      <td>0.0</td>\n",
       "      <td>0.0</td>\n",
       "      <td>0.0</td>\n",
       "      <td>0.0</td>\n",
       "      <td>0.0</td>\n",
       "      <td>...</td>\n",
       "      <td>0.0</td>\n",
       "      <td>0.00</td>\n",
       "      <td>0.05</td>\n",
       "      <td>0.0</td>\n",
       "      <td>Yes</td>\n",
       "      <td>No</td>\n",
       "      <td>No</td>\n",
       "      <td>Yes</td>\n",
       "      <td>No</td>\n",
       "      <td>No</td>\n",
       "    </tr>\n",
       "    <tr>\n",
       "      <th>2</th>\n",
       "      <td>1950252</td>\n",
       "      <td>71.0</td>\n",
       "      <td>8.0</td>\n",
       "      <td>6.0</td>\n",
       "      <td>100.0</td>\n",
       "      <td>140.0</td>\n",
       "      <td>160.0</td>\n",
       "      <td>14.0</td>\n",
       "      <td>35.0</td>\n",
       "      <td>71.0</td>\n",
       "      <td>...</td>\n",
       "      <td>0.0</td>\n",
       "      <td>0.93</td>\n",
       "      <td>0.94</td>\n",
       "      <td>0.0</td>\n",
       "      <td>No</td>\n",
       "      <td>No</td>\n",
       "      <td>No</td>\n",
       "      <td>Yes</td>\n",
       "      <td>No</td>\n",
       "      <td>No</td>\n",
       "    </tr>\n",
       "    <tr>\n",
       "      <th>3</th>\n",
       "      <td>1828636</td>\n",
       "      <td>5.0</td>\n",
       "      <td>9.0</td>\n",
       "      <td>0.0</td>\n",
       "      <td>0.0</td>\n",
       "      <td>0.0</td>\n",
       "      <td>0.0</td>\n",
       "      <td>0.0</td>\n",
       "      <td>0.0</td>\n",
       "      <td>0.0</td>\n",
       "      <td>...</td>\n",
       "      <td>0.0</td>\n",
       "      <td>0.99</td>\n",
       "      <td>0.96</td>\n",
       "      <td>0.0</td>\n",
       "      <td>No</td>\n",
       "      <td>No</td>\n",
       "      <td>No</td>\n",
       "      <td>Yes</td>\n",
       "      <td>No</td>\n",
       "      <td>No</td>\n",
       "    </tr>\n",
       "    <tr>\n",
       "      <th>4</th>\n",
       "      <td>1312565</td>\n",
       "      <td>63.0</td>\n",
       "      <td>2.0</td>\n",
       "      <td>0.0</td>\n",
       "      <td>0.0</td>\n",
       "      <td>0.0</td>\n",
       "      <td>0.0</td>\n",
       "      <td>0.0</td>\n",
       "      <td>0.0</td>\n",
       "      <td>24.0</td>\n",
       "      <td>...</td>\n",
       "      <td>0.0</td>\n",
       "      <td>0.69</td>\n",
       "      <td>0.40</td>\n",
       "      <td>0.0</td>\n",
       "      <td>Yes</td>\n",
       "      <td>No</td>\n",
       "      <td>No</td>\n",
       "      <td>Yes</td>\n",
       "      <td>No</td>\n",
       "      <td>No</td>\n",
       "    </tr>\n",
       "  </tbody>\n",
       "</table>\n",
       "<p>5 rows × 23 columns</p>\n",
       "</div>"
      ],
      "text/plain": [
       "    po_nbr  present_inv  lead_time  total_whpk_qty  fcst_3_mo  fcst_6_mo  \\\n",
       "0  2842257        415.0        NaN             0.0        0.0        0.0   \n",
       "1  3043795         10.0        2.0             0.0        0.0        0.0   \n",
       "2  1950252         71.0        8.0             6.0      100.0      140.0   \n",
       "3  1828636          5.0        9.0             0.0        0.0        0.0   \n",
       "4  1312565         63.0        2.0             0.0        0.0        0.0   \n",
       "\n",
       "   fcst_9_mo  sls_1_mo  sls_3_mo  sls_6_mo  ...  spare_parts_overdue  \\\n",
       "0        0.0       0.0       3.0      28.0  ...                  0.0   \n",
       "1        0.0       0.0       0.0       0.0  ...                  0.0   \n",
       "2      160.0      14.0      35.0      71.0  ...                  0.0   \n",
       "3        0.0       0.0       0.0       0.0  ...                  0.0   \n",
       "4        0.0       0.0       0.0      24.0  ...                  0.0   \n",
       "\n",
       "   avg_ratings_6_mo avg_ratings_12_mo  stock_overdue  internal_risk1  \\\n",
       "0            -99.00            -99.00            0.0             Yes   \n",
       "1              0.00              0.05            0.0             Yes   \n",
       "2              0.93              0.94            0.0              No   \n",
       "3              0.99              0.96            0.0              No   \n",
       "4              0.69              0.40            0.0             Yes   \n",
       "\n",
       "   internal_risk2  production_quality_risk pdt_recsys internal_risk3  \\\n",
       "0              No                       No         No             No   \n",
       "1              No                       No        Yes             No   \n",
       "2              No                       No        Yes             No   \n",
       "3              No                       No        Yes             No   \n",
       "4              No                       No        Yes             No   \n",
       "\n",
       "  out_of_stock  \n",
       "0           No  \n",
       "1           No  \n",
       "2           No  \n",
       "3           No  \n",
       "4           No  \n",
       "\n",
       "[5 rows x 23 columns]"
      ]
     },
     "execution_count": 187,
     "metadata": {},
     "output_type": "execute_result"
    }
   ],
   "source": [
    "df.head()"
   ]
  },
  {
   "cell_type": "markdown",
   "metadata": {},
   "source": [
    "# Univariate Analysis "
   ]
  },
  {
   "cell_type": "code",
   "execution_count": 103,
   "metadata": {
    "scrolled": false
   },
   "outputs": [
    {
     "data": {
      "image/png": "[encoded data removed]",
      "text/plain": [
       "<Figure size 432x288 with 1 Axes>"
      ]
     },
     "metadata": {
      "needs_background": "light"
     },
     "output_type": "display_data"
    }
   ],
   "source": [
    "sns.distplot(df['lead_time'])\n",
    "plt.show()"
   ]
  },
  {
   "cell_type": "code",
   "execution_count": 204,
   "metadata": {},
   "outputs": [
    {
     "data": {
      "text/plain": [
       "Index(['po_nbr', 'present_inv', 'lead_time', 'total_whpk_qty', 'fcst_3_mo',\n",
       "       'fcst_6_mo', 'fcst_9_mo', 'sls_1_mo', 'sls_3_mo', 'sls_6_mo',\n",
       "       'sls_9_mo', 'minimum_stock_qty', 'identified_defect',\n",
       "       'spare_parts_overdue', 'avg_ratings_6_mo', 'avg_ratings_12_mo',\n",
       "       'stock_overdue', 'internal_risk1', 'internal_risk2',\n",
       "       'production_quality_risk', 'pdt_recsys', 'internal_risk3',\n",
       "       'out_of_stock'],\n",
       "      dtype='object')"
      ]
     },
     "execution_count": 204,
     "metadata": {},
     "output_type": "execute_result"
    }
   ],
   "source": [
    "df.columns"
   ]
  },
  {
   "cell_type": "code",
   "execution_count": 206,
   "metadata": {},
   "outputs": [
    {
     "data": {
      "image/png": "[encoded data removed]",
      "text/plain": [
       "<Figure size 432x288 with 1 Axes>"
      ]
     },
     "metadata": {
      "needs_background": "light"
     },
     "output_type": "display_data"
    }
   ],
   "source": [
    "sns.distplot(df['total_whpk_qty']) \n",
    "plt.show()"
   ]
  },
  {
   "cell_type": "code",
   "execution_count": 207,
   "metadata": {},
   "outputs": [
    {
     "data": {
      "image/png": "[encoded data removed]",
      "text/plain": [
       "<Figure size 432x288 with 1 Axes>"
      ]
     },
     "metadata": {
      "needs_background": "light"
     },
     "output_type": "display_data"
    }
   ],
   "source": [
    "sns.distplot(df['minimum_stock_qty']) \n",
    "plt.show()"
   ]
  },
  {
   "cell_type": "code",
   "execution_count": null,
   "metadata": {},
   "outputs": [],
   "source": [
    "#Basic Probabilties "
   ]
  },
  {
   "cell_type": "code",
   "execution_count": 208,
   "metadata": {},
   "outputs": [],
   "source": [
    "#Marginal, Joint, Conditional Probs"
   ]
  },
  {
   "cell_type": "code",
   "execution_count": null,
   "metadata": {},
   "outputs": [],
   "source": [
    "P(out of stock scenario and risk3 = yes) ---joint"
   ]
  },
  {
   "cell_type": "code",
   "execution_count": null,
   "metadata": {},
   "outputs": [],
   "source": [
    "P(oos)--marginal\n",
    "p(oos | lead time > 7)"
   ]
  },
  {
   "cell_type": "code",
   "execution_count": null,
   "metadata": {},
   "outputs": [],
   "source": []
  },
  {
   "cell_type": "code",
   "execution_count": null,
   "metadata": {},
   "outputs": [],
   "source": []
  },
  {
   "cell_type": "code",
   "execution_count": null,
   "metadata": {},
   "outputs": [],
   "source": []
  },
  {
   "cell_type": "code",
   "execution_count": null,
   "metadata": {},
   "outputs": [],
   "source": []
  },
  {
   "cell_type": "code",
   "execution_count": 116,
   "metadata": {
    "scrolled": true
   },
   "outputs": [
    {
     "data": {
      "text/html": [
       "<div>\n",
       "<style scoped>\n",
       "    .dataframe tbody tr th:only-of-type {\n",
       "        vertical-align: middle;\n",
       "    }\n",
       "\n",
       "    .dataframe tbody tr th {\n",
       "        vertical-align: top;\n",
       "    }\n",
       "\n",
       "    .dataframe thead th {\n",
       "        text-align: right;\n",
       "    }\n",
       "</style>\n",
       "<table border=\"1\" class=\"dataframe\">\n",
       "  <thead>\n",
       "    <tr style=\"text-align: right;\">\n",
       "      <th>out_of_stock</th>\n",
       "      <th>No</th>\n",
       "      <th>Yes</th>\n",
       "      <th>All</th>\n",
       "    </tr>\n",
       "    <tr>\n",
       "      <th>internal_risk3</th>\n",
       "      <th></th>\n",
       "      <th></th>\n",
       "      <th></th>\n",
       "    </tr>\n",
       "  </thead>\n",
       "  <tbody>\n",
       "    <tr>\n",
       "      <th>No</th>\n",
       "      <td>191513</td>\n",
       "      <td>1410</td>\n",
       "      <td>192923</td>\n",
       "    </tr>\n",
       "    <tr>\n",
       "      <th>Yes</th>\n",
       "      <td>69</td>\n",
       "      <td>2</td>\n",
       "      <td>71</td>\n",
       "    </tr>\n",
       "    <tr>\n",
       "      <th>All</th>\n",
       "      <td>191582</td>\n",
       "      <td>1412</td>\n",
       "      <td>192994</td>\n",
       "    </tr>\n",
       "  </tbody>\n",
       "</table>\n",
       "</div>"
      ],
      "text/plain": [
       "out_of_stock        No   Yes     All\n",
       "internal_risk3                      \n",
       "No              191513  1410  192923\n",
       "Yes                 69     2      71\n",
       "All             191582  1412  192994"
      ]
     },
     "execution_count": 116,
     "metadata": {},
     "output_type": "execute_result"
    }
   ],
   "source": [
    "pd.crosstab(df[\"internal_risk3\"],df[\"out_of_stock\"],margins=True,)"
   ]
  },
  {
   "cell_type": "code",
   "execution_count": null,
   "metadata": {},
   "outputs": [],
   "source": []
  },
  {
   "cell_type": "code",
   "execution_count": null,
   "metadata": {},
   "outputs": [],
   "source": []
  },
  {
   "cell_type": "code",
   "execution_count": null,
   "metadata": {},
   "outputs": [],
   "source": []
  },
  {
   "cell_type": "code",
   "execution_count": 121,
   "metadata": {},
   "outputs": [
    {
     "data": {
      "text/html": [
       "<div>\n",
       "<style scoped>\n",
       "    .dataframe tbody tr th:only-of-type {\n",
       "        vertical-align: middle;\n",
       "    }\n",
       "\n",
       "    .dataframe tbody tr th {\n",
       "        vertical-align: top;\n",
       "    }\n",
       "\n",
       "    .dataframe thead th {\n",
       "        text-align: right;\n",
       "    }\n",
       "</style>\n",
       "<table border=\"1\" class=\"dataframe\">\n",
       "  <thead>\n",
       "    <tr style=\"text-align: right;\">\n",
       "      <th>out_of_stock</th>\n",
       "      <th>No</th>\n",
       "      <th>Yes</th>\n",
       "    </tr>\n",
       "    <tr>\n",
       "      <th>internal_risk3</th>\n",
       "      <th></th>\n",
       "      <th></th>\n",
       "    </tr>\n",
       "  </thead>\n",
       "  <tbody>\n",
       "    <tr>\n",
       "      <th>No</th>\n",
       "      <td>7.868409</td>\n",
       "      <td>6.421439</td>\n",
       "    </tr>\n",
       "    <tr>\n",
       "      <th>Yes</th>\n",
       "      <td>7.875000</td>\n",
       "      <td>8.000000</td>\n",
       "    </tr>\n",
       "  </tbody>\n",
       "</table>\n",
       "</div>"
      ],
      "text/plain": [
       "out_of_stock          No       Yes\n",
       "internal_risk3                    \n",
       "No              7.868409  6.421439\n",
       "Yes             7.875000  8.000000"
      ]
     },
     "execution_count": 121,
     "metadata": {},
     "output_type": "execute_result"
    }
   ],
   "source": [
    "pd.crosstab(index = df.internal_risk3, columns = df.out_of_stock, values = df.lead_time, aggfunc = 'mean')"
   ]
  },
  {
   "cell_type": "code",
   "execution_count": 122,
   "metadata": {},
   "outputs": [
    {
     "data": {
      "text/html": [
       "<div>\n",
       "<style scoped>\n",
       "    .dataframe tbody tr th:only-of-type {\n",
       "        vertical-align: middle;\n",
       "    }\n",
       "\n",
       "    .dataframe tbody tr th {\n",
       "        vertical-align: top;\n",
       "    }\n",
       "\n",
       "    .dataframe thead th {\n",
       "        text-align: right;\n",
       "    }\n",
       "</style>\n",
       "<table border=\"1\" class=\"dataframe\">\n",
       "  <thead>\n",
       "    <tr style=\"text-align: right;\">\n",
       "      <th>out_of_stock</th>\n",
       "      <th>No</th>\n",
       "      <th>Yes</th>\n",
       "    </tr>\n",
       "    <tr>\n",
       "      <th>internal_risk2</th>\n",
       "      <th></th>\n",
       "      <th></th>\n",
       "    </tr>\n",
       "  </thead>\n",
       "  <tbody>\n",
       "    <tr>\n",
       "      <th>No</th>\n",
       "      <td>7.868884</td>\n",
       "      <td>6.43025</td>\n",
       "    </tr>\n",
       "    <tr>\n",
       "      <th>Yes</th>\n",
       "      <td>5.500000</td>\n",
       "      <td>2.00000</td>\n",
       "    </tr>\n",
       "  </tbody>\n",
       "</table>\n",
       "</div>"
      ],
      "text/plain": [
       "out_of_stock          No      Yes\n",
       "internal_risk2                   \n",
       "No              7.868884  6.43025\n",
       "Yes             5.500000  2.00000"
      ]
     },
     "execution_count": 122,
     "metadata": {},
     "output_type": "execute_result"
    }
   ],
   "source": [
    "pd.crosstab(index = df.internal_risk2, columns = df.out_of_stock, values = df.lead_time, aggfunc = 'mean')"
   ]
  },
  {
   "cell_type": "code",
   "execution_count": 123,
   "metadata": {},
   "outputs": [
    {
     "data": {
      "text/html": [
       "<div>\n",
       "<style scoped>\n",
       "    .dataframe tbody tr th:only-of-type {\n",
       "        vertical-align: middle;\n",
       "    }\n",
       "\n",
       "    .dataframe tbody tr th {\n",
       "        vertical-align: top;\n",
       "    }\n",
       "\n",
       "    .dataframe thead th {\n",
       "        text-align: right;\n",
       "    }\n",
       "</style>\n",
       "<table border=\"1\" class=\"dataframe\">\n",
       "  <thead>\n",
       "    <tr style=\"text-align: right;\">\n",
       "      <th>out_of_stock</th>\n",
       "      <th>No</th>\n",
       "      <th>Yes</th>\n",
       "    </tr>\n",
       "    <tr>\n",
       "      <th>internal_risk1</th>\n",
       "      <th></th>\n",
       "      <th></th>\n",
       "    </tr>\n",
       "  </thead>\n",
       "  <tbody>\n",
       "    <tr>\n",
       "      <th>No</th>\n",
       "      <td>7.353627</td>\n",
       "      <td>6.836412</td>\n",
       "    </tr>\n",
       "    <tr>\n",
       "      <th>Yes</th>\n",
       "      <td>9.924729</td>\n",
       "      <td>4.356828</td>\n",
       "    </tr>\n",
       "  </tbody>\n",
       "</table>\n",
       "</div>"
      ],
      "text/plain": [
       "out_of_stock          No       Yes\n",
       "internal_risk1                    \n",
       "No              7.353627  6.836412\n",
       "Yes             9.924729  4.356828"
      ]
     },
     "execution_count": 123,
     "metadata": {},
     "output_type": "execute_result"
    }
   ],
   "source": [
    "pd.crosstab(index = df.internal_risk1, columns = df.out_of_stock, values = df.lead_time, aggfunc = 'mean')"
   ]
  },
  {
   "cell_type": "code",
   "execution_count": 215,
   "metadata": {},
   "outputs": [
    {
     "name": "stdout",
     "output_type": "stream",
     "text": [
      "out_of_stock        No   Yes\n",
      "internal_risk3              \n",
      "No              191513  1410\n",
      "Yes                 69     2\n"
     ]
    }
   ],
   "source": [
    "crosstab = pd.crosstab(df[\"internal_risk3\"],df[\"out_of_stock\"])\n",
    "print(crosstab)"
   ]
  },
  {
   "cell_type": "code",
   "execution_count": 216,
   "metadata": {},
   "outputs": [
    {
     "data": {
      "text/html": [
       "<div>\n",
       "<style scoped>\n",
       "    .dataframe tbody tr th:only-of-type {\n",
       "        vertical-align: middle;\n",
       "    }\n",
       "\n",
       "    .dataframe tbody tr th {\n",
       "        vertical-align: top;\n",
       "    }\n",
       "\n",
       "    .dataframe thead th {\n",
       "        text-align: right;\n",
       "    }\n",
       "</style>\n",
       "<table border=\"1\" class=\"dataframe\">\n",
       "  <thead>\n",
       "    <tr style=\"text-align: right;\">\n",
       "      <th>internal_risk3</th>\n",
       "      <th>No</th>\n",
       "      <th>Yes</th>\n",
       "    </tr>\n",
       "    <tr>\n",
       "      <th>out_of_stock</th>\n",
       "      <th></th>\n",
       "      <th></th>\n",
       "    </tr>\n",
       "  </thead>\n",
       "  <tbody>\n",
       "    <tr>\n",
       "      <th>No</th>\n",
       "      <td>191513</td>\n",
       "      <td>69</td>\n",
       "    </tr>\n",
       "    <tr>\n",
       "      <th>Yes</th>\n",
       "      <td>1410</td>\n",
       "      <td>2</td>\n",
       "    </tr>\n",
       "  </tbody>\n",
       "</table>\n",
       "</div>"
      ],
      "text/plain": [
       "internal_risk3      No  Yes\n",
       "out_of_stock               \n",
       "No              191513   69\n",
       "Yes               1410    2"
      ]
     },
     "execution_count": 216,
     "metadata": {},
     "output_type": "execute_result"
    }
   ],
   "source": [
    "crosstab.T"
   ]
  },
  {
   "cell_type": "code",
   "execution_count": 217,
   "metadata": {},
   "outputs": [
    {
     "data": {
      "text/plain": [
       "internal_risk3\n",
       "No     192923\n",
       "Yes        71\n",
       "dtype: int64"
      ]
     },
     "execution_count": 217,
     "metadata": {},
     "output_type": "execute_result"
    }
   ],
   "source": [
    "crosstab.T.sum()"
   ]
  },
  {
   "cell_type": "code",
   "execution_count": 219,
   "metadata": {},
   "outputs": [
    {
     "data": {
      "text/html": [
       "<div>\n",
       "<style scoped>\n",
       "    .dataframe tbody tr th:only-of-type {\n",
       "        vertical-align: middle;\n",
       "    }\n",
       "\n",
       "    .dataframe tbody tr th {\n",
       "        vertical-align: top;\n",
       "    }\n",
       "\n",
       "    .dataframe thead th {\n",
       "        text-align: right;\n",
       "    }\n",
       "</style>\n",
       "<table border=\"1\" class=\"dataframe\">\n",
       "  <thead>\n",
       "    <tr style=\"text-align: right;\">\n",
       "      <th>out_of_stock</th>\n",
       "      <th>No</th>\n",
       "      <th>Yes</th>\n",
       "    </tr>\n",
       "    <tr>\n",
       "      <th>internal_risk3</th>\n",
       "      <th></th>\n",
       "      <th></th>\n",
       "    </tr>\n",
       "  </thead>\n",
       "  <tbody>\n",
       "    <tr>\n",
       "      <th>No</th>\n",
       "      <td>0.992691</td>\n",
       "      <td>0.007309</td>\n",
       "    </tr>\n",
       "    <tr>\n",
       "      <th>Yes</th>\n",
       "      <td>0.971831</td>\n",
       "      <td>0.028169</td>\n",
       "    </tr>\n",
       "  </tbody>\n",
       "</table>\n",
       "</div>"
      ],
      "text/plain": [
       "out_of_stock          No       Yes\n",
       "internal_risk3                    \n",
       "No              0.992691  0.007309\n",
       "Yes             0.971831  0.028169"
      ]
     },
     "execution_count": 219,
     "metadata": {},
     "output_type": "execute_result"
    }
   ],
   "source": [
    "crosstab.T.div(crosstab.T.sum()).T"
   ]
  },
  {
   "cell_type": "code",
   "execution_count": 220,
   "metadata": {},
   "outputs": [
    {
     "name": "stdout",
     "output_type": "stream",
     "text": [
      "out_of_stock        No   Yes\n",
      "internal_risk3              \n",
      "No              191513  1410\n",
      "Yes                 69     2\n",
      "**************************************************\n",
      "out_of_stock          No       Yes\n",
      "internal_risk3                    \n",
      "No              0.992691  0.007309\n",
      "Yes             0.971831  0.028169\n"
     ]
    },
    {
     "data": {
      "image/png": "[encoded data removed]",
      "text/plain": [
       "<Figure size 720x504 with 1 Axes>"
      ]
     },
     "metadata": {
      "needs_background": "light"
     },
     "output_type": "display_data"
    }
   ],
   "source": [
    "crosstab = pd.crosstab(df[\"internal_risk3\"],df[\"out_of_stock\"])\n",
    "print(crosstab)\n",
    "probs = crosstab.T.div(crosstab.T.sum()).T\n",
    "\n",
    "print('*'*50)\n",
    "print(probs)\n",
    "\n",
    "fig,ax = plt.subplots()\n",
    "probs.plot(kind='bar',ax=ax,figsize =(10,7))\n",
    "plt.show()"
   ]
  },
  {
   "cell_type": "code",
   "execution_count": 221,
   "metadata": {},
   "outputs": [
    {
     "data": {
      "text/plain": [
       "Index(['po_nbr', 'present_inv', 'lead_time', 'total_whpk_qty', 'fcst_3_mo',\n",
       "       'fcst_6_mo', 'fcst_9_mo', 'sls_1_mo', 'sls_3_mo', 'sls_6_mo',\n",
       "       'sls_9_mo', 'minimum_stock_qty', 'identified_defect',\n",
       "       'spare_parts_overdue', 'avg_ratings_6_mo', 'avg_ratings_12_mo',\n",
       "       'stock_overdue', 'internal_risk1', 'internal_risk2',\n",
       "       'production_quality_risk', 'pdt_recsys', 'internal_risk3',\n",
       "       'out_of_stock'],\n",
       "      dtype='object')"
      ]
     },
     "execution_count": 221,
     "metadata": {},
     "output_type": "execute_result"
    }
   ],
   "source": [
    "df.columns"
   ]
  },
  {
   "cell_type": "code",
   "execution_count": 224,
   "metadata": {},
   "outputs": [],
   "source": [
    "ct = pd.crosstab(df['out_of_stock'],df['internal_risk1'],normalize=True)"
   ]
  },
  {
   "cell_type": "code",
   "execution_count": 230,
   "metadata": {},
   "outputs": [
    {
     "data": {
      "text/plain": [
       "out_of_stock\n",
       "No     0.992684\n",
       "Yes    0.007316\n",
       "dtype: float64"
      ]
     },
     "execution_count": 230,
     "metadata": {},
     "output_type": "execute_result"
    }
   ],
   "source": [
    "oos_m = ct.sum(axis =1) #Marginal Probs\n",
    "oos_m"
   ]
  },
  {
   "cell_type": "code",
   "execution_count": null,
   "metadata": {},
   "outputs": [],
   "source": []
  },
  {
   "cell_type": "code",
   "execution_count": 229,
   "metadata": {},
   "outputs": [
    {
     "data": {
      "text/html": [
       "<div>\n",
       "<style scoped>\n",
       "    .dataframe tbody tr th:only-of-type {\n",
       "        vertical-align: middle;\n",
       "    }\n",
       "\n",
       "    .dataframe tbody tr th {\n",
       "        vertical-align: top;\n",
       "    }\n",
       "\n",
       "    .dataframe thead th {\n",
       "        text-align: right;\n",
       "    }\n",
       "</style>\n",
       "<table border=\"1\" class=\"dataframe\">\n",
       "  <thead>\n",
       "    <tr style=\"text-align: right;\">\n",
       "      <th>internal_risk1</th>\n",
       "      <th>No</th>\n",
       "      <th>Yes</th>\n",
       "    </tr>\n",
       "    <tr>\n",
       "      <th>out_of_stock</th>\n",
       "      <th></th>\n",
       "      <th></th>\n",
       "    </tr>\n",
       "  </thead>\n",
       "  <tbody>\n",
       "    <tr>\n",
       "      <th>No</th>\n",
       "      <td>0.772714</td>\n",
       "      <td>30.838527</td>\n",
       "    </tr>\n",
       "    <tr>\n",
       "      <th>Yes</th>\n",
       "      <td>0.006149</td>\n",
       "      <td>0.165722</td>\n",
       "    </tr>\n",
       "  </tbody>\n",
       "</table>\n",
       "</div>"
      ],
      "text/plain": [
       "internal_risk1        No        Yes\n",
       "out_of_stock                       \n",
       "No              0.772714  30.838527\n",
       "Yes             0.006149   0.165722"
      ]
     },
     "execution_count": 229,
     "metadata": {},
     "output_type": "execute_result"
    }
   ],
   "source": [
    "cop = ct.divide(oos_m,axis =1)\n",
    "cop"
   ]
  },
  {
   "cell_type": "code",
   "execution_count": null,
   "metadata": {},
   "outputs": [],
   "source": [
    "p(a|b) = p(a^b)/p(b)"
   ]
  },
  {
   "cell_type": "code",
   "execution_count": null,
   "metadata": {},
   "outputs": [],
   "source": []
  },
  {
   "cell_type": "code",
   "execution_count": 129,
   "metadata": {},
   "outputs": [
    {
     "name": "stdout",
     "output_type": "stream",
     "text": [
      "out_of_stock        No   Yes     All\n",
      "internal_risk1                      \n",
      "No              148038  1178  149216\n",
      "Yes              43544   234   43778\n",
      "All             191582  1412  192994\n",
      "**************************************************\n",
      "out_of_stock          No       Yes  All\n",
      "internal_risk1                         \n",
      "No              0.496053  0.003947  0.5\n",
      "Yes             0.497327  0.002673  0.5\n",
      "All             0.496342  0.003658  0.5\n"
     ]
    },
    {
     "data": {
      "image/png": "[encoded data removed]",
      "text/plain": [
       "<Figure size 720x504 with 1 Axes>"
      ]
     },
     "metadata": {
      "needs_background": "light"
     },
     "output_type": "display_data"
    }
   ],
   "source": [
    "crosstab = pd.crosstab(df[\"internal_risk1\"],df[\"out_of_stock\"],margins=True)\n",
    "\n",
    "print(crosstab)\n",
    "probs = crosstab.T.div(crosstab.T.sum()).T\n",
    "\n",
    "print('*'*50)\n",
    "print(probs)\n",
    "\n",
    "fig,ax = plt.subplots()\n",
    "probs.plot(kind='bar',ax=ax,figsize =(10,7))\n",
    "plt.show()"
   ]
  },
  {
   "cell_type": "code",
   "execution_count": 130,
   "metadata": {},
   "outputs": [
    {
     "name": "stdout",
     "output_type": "stream",
     "text": [
      "out_of_stock        No   Yes     All\n",
      "internal_risk2                      \n",
      "No              191546  1410  192956\n",
      "Yes                 36     2      38\n",
      "All             191582  1412  192994\n",
      "**************************************************\n",
      "out_of_stock          No       Yes  All\n",
      "internal_risk2                         \n",
      "No              0.496346  0.003654  0.5\n",
      "Yes             0.473684  0.026316  0.5\n",
      "All             0.496342  0.003658  0.5\n"
     ]
    },
    {
     "data": {
      "image/png": "[encoded data removed]",
      "text/plain": [
       "<Figure size 720x504 with 1 Axes>"
      ]
     },
     "metadata": {
      "needs_background": "light"
     },
     "output_type": "display_data"
    }
   ],
   "source": [
    "crosstab = pd.crosstab(df[\"internal_risk2\"],df[\"out_of_stock\"],margins=True)\n",
    "\n",
    "print(crosstab)\n",
    "probs = crosstab.T.div(crosstab.T.sum()).T\n",
    "\n",
    "print('*'*50)\n",
    "print(probs)\n",
    "\n",
    "fig,ax = plt.subplots()\n",
    "probs.plot(kind='bar',ax=ax,figsize =(10,7))\n",
    "plt.show()"
   ]
  },
  {
   "cell_type": "code",
   "execution_count": 131,
   "metadata": {},
   "outputs": [
    {
     "data": {
      "text/plain": [
       "Index(['po_nbr', 'present_inv', 'lead_time', 'total_whpk_qty', 'fcst_3_mo',\n",
       "       'fcst_6_mo', 'fcst_9_mo', 'sls_1_mo', 'sls_3_mo', 'sls_6_mo',\n",
       "       'sls_9_mo', 'minimum_stock_qty', 'identified_defect',\n",
       "       'spare_parts_overdue', 'avg_ratings_6_mo', 'avg_ratings_12_mo',\n",
       "       'stock_overdue', 'internal_risk1', 'internal_risk2',\n",
       "       'production_quality_risk', 'pdt_recsys', 'internal_risk3',\n",
       "       'out_of_stock'],\n",
       "      dtype='object')"
      ]
     },
     "execution_count": 131,
     "metadata": {},
     "output_type": "execute_result"
    }
   ],
   "source": [
    "df.columns"
   ]
  },
  {
   "cell_type": "code",
   "execution_count": null,
   "metadata": {},
   "outputs": [],
   "source": [
    "pdt_recsys"
   ]
  },
  {
   "cell_type": "code",
   "execution_count": 132,
   "metadata": {},
   "outputs": [
    {
     "name": "stdout",
     "output_type": "stream",
     "text": [
      "out_of_stock      No   Yes     All\n",
      "pdt_recsys                        \n",
      "No              6978    64    7042\n",
      "Yes           184604  1348  185952\n",
      "All           191582  1412  192994\n",
      "**************************************************\n",
      "out_of_stock        No       Yes  All\n",
      "pdt_recsys                           \n",
      "No            0.495456  0.004544  0.5\n",
      "Yes           0.496375  0.003625  0.5\n",
      "All           0.496342  0.003658  0.5\n"
     ]
    },
    {
     "data": {
      "image/png": "[encoded data removed]",
      "text/plain": [
       "<Figure size 720x504 with 1 Axes>"
      ]
     },
     "metadata": {
      "needs_background": "light"
     },
     "output_type": "display_data"
    }
   ],
   "source": [
    "crosstab = pd.crosstab(df[\"pdt_recsys\"],df[\"out_of_stock\"],margins=True)\n",
    "\n",
    "print(crosstab)\n",
    "probs = crosstab.T.div(crosstab.T.sum()).T\n",
    "\n",
    "print('*'*50)\n",
    "print(probs)\n",
    "\n",
    "fig,ax = plt.subplots()\n",
    "probs.plot(kind='bar',ax=ax,figsize =(10,7))\n",
    "plt.show()"
   ]
  },
  {
   "cell_type": "code",
   "execution_count": 231,
   "metadata": {},
   "outputs": [
    {
     "name": "stdout",
     "output_type": "stream",
     "text": [
      "out_of_stock           No   Yes\n",
      "identified_defect              \n",
      "No                 191496  1403\n",
      "Yes                    86     9\n",
      "**************************************************\n",
      "out_of_stock             No       Yes\n",
      "identified_defect                    \n",
      "No                 0.992727  0.007273\n",
      "Yes                0.905263  0.094737\n"
     ]
    },
    {
     "data": {
      "image/png": "[encoded data removed]",
      "text/plain": [
       "<Figure size 720x504 with 1 Axes>"
      ]
     },
     "metadata": {
      "needs_background": "light"
     },
     "output_type": "display_data"
    }
   ],
   "source": [
    "crosstab = pd.crosstab(df[\"identified_defect\"],df[\"out_of_stock\"])\n",
    "\n",
    "print(crosstab)\n",
    "probs = crosstab.T.div(crosstab.T.sum()).T\n",
    "\n",
    "print('*'*50)\n",
    "print(probs)\n",
    "\n",
    "fig,ax = plt.subplots()\n",
    "probs.plot(kind='bar',ax=ax,figsize =(10,7))\n",
    "plt.show()"
   ]
  },
  {
   "cell_type": "code",
   "execution_count": null,
   "metadata": {},
   "outputs": [],
   "source": [
    "#There "
   ]
  },
  {
   "cell_type": "code",
   "execution_count": 135,
   "metadata": {},
   "outputs": [
    {
     "data": {
      "image/png": "[encoded data removed]",
      "text/plain": [
       "<Figure size 432x288 with 1 Axes>"
      ]
     },
     "metadata": {
      "needs_background": "light"
     },
     "output_type": "display_data"
    }
   ],
   "source": [
    "sns.violinplot(x = 'out_of_stock',y = 'present_inv' ,hue = 'out_of_stock', data = df,size=15,notch = True)\n",
    "plt.show()"
   ]
  },
  {
   "cell_type": "code",
   "execution_count": 136,
   "metadata": {},
   "outputs": [
    {
     "data": {
      "image/png": "[encoded data removed]",
      "text/plain": [
       "<Figure size 432x288 with 1 Axes>"
      ]
     },
     "metadata": {
      "needs_background": "light"
     },
     "output_type": "display_data"
    }
   ],
   "source": [
    "sns.violinplot(x = 'out_of_stock',y = 'lead_time' ,hue = 'out_of_stock', data = df,size=15,notch = True)\n",
    "plt.show()"
   ]
  },
  {
   "cell_type": "code",
   "execution_count": 137,
   "metadata": {},
   "outputs": [
    {
     "data": {
      "image/png": "[encoded data removed]",
      "text/plain": [
       "<Figure size 432x288 with 1 Axes>"
      ]
     },
     "metadata": {
      "needs_background": "light"
     },
     "output_type": "display_data"
    },
    {
     "data": {
      "image/png": "[encoded data removed]",
      "text/plain": [
       "<Figure size 432x288 with 1 Axes>"
      ]
     },
     "metadata": {
      "needs_background": "light"
     },
     "output_type": "display_data"
    },
    {
     "data": {
      "image/png": "[encoded data removed]",
      "text/plain": [
       "<Figure size 432x288 with 1 Axes>"
      ]
     },
     "metadata": {
      "needs_background": "light"
     },
     "output_type": "display_data"
    },
    {
     "data": {
      "image/png": "[encoded data removed]",
      "text/plain": [
       "<Figure size 432x288 with 1 Axes>"
      ]
     },
     "metadata": {
      "needs_background": "light"
     },
     "output_type": "display_data"
    }
   ],
   "source": [
    "sns.violinplot(x=df['out_of_stock'],y = df['sls_1_mo'])\n",
    "plt.show()\n",
    "\n",
    "sns.violinplot(x=df['out_of_stock'],y = df['sls_3_mo'])\n",
    "plt.show()\n",
    "\n",
    "sns.violinplot(x=df['out_of_stock'],y = df['sls_6_mo'])\n",
    "plt.show()\n",
    "\n",
    "sns.violinplot(x=df['out_of_stock'],y = df['sls_9_mo'])\n",
    "plt.show()\n"
   ]
  },
  {
   "cell_type": "code",
   "execution_count": 232,
   "metadata": {},
   "outputs": [
    {
     "data": {
      "image/png": "[encoded data removed]",
      "text/plain": [
       "<Figure size 432x288 with 1 Axes>"
      ]
     },
     "metadata": {
      "needs_background": "light"
     },
     "output_type": "display_data"
    }
   ],
   "source": [
    "sns.violinplot(x=df['out_of_stock'],y = df['minimum_stock_qty'])\n",
    "plt.show()"
   ]
  },
  {
   "cell_type": "code",
   "execution_count": 141,
   "metadata": {},
   "outputs": [
    {
     "data": {
      "image/png": "[encoded data removed]",
      "text/plain": [
       "<Figure size 432x288 with 1 Axes>"
      ]
     },
     "metadata": {
      "needs_background": "light"
     },
     "output_type": "display_data"
    }
   ],
   "source": [
    "q1_minimum_stock_qty = df.minimum_stock_qty.quantile(0.25) # Storing the 25th percentile value\n",
    "q3_minimum_stock_qty = df.minimum_stock_qty.quantile(0.75) # Storing the 75 th percentile value\n",
    "\n",
    "iqr_minimum_stock_qty = q3_minimum_stock_qty - q1_minimum_stock_qty  #Calculating the IQR\n",
    "\n",
    "# Trying to detect outliers using this method where we define a new range\n",
    "lower_bound = q1_minimum_stock_qty - 1.5*iqr_minimum_stock_qty\n",
    "upper_bound = q3_minimum_stock_qty + 1.5*iqr_minimum_stock_qty\n",
    "\n",
    "\n",
    "\n",
    "range_m= (df.minimum_stock_qty >= lower_bound) & (df.minimum_stock_qty <= upper_bound)\n",
    "sns.violinplot(x = 'out_of_stock',y = 'minimum_stock_qty',data = df.loc[range_m],showfliers = False)\n",
    "plt.show()"
   ]
  },
  {
   "cell_type": "code",
   "execution_count": 139,
   "metadata": {},
   "outputs": [
    {
     "data": {
      "text/plain": [
       "Index(['po_nbr', 'present_inv', 'lead_time', 'total_whpk_qty', 'fcst_3_mo',\n",
       "       'fcst_6_mo', 'fcst_9_mo', 'sls_1_mo', 'sls_3_mo', 'sls_6_mo',\n",
       "       'sls_9_mo', 'minimum_stock_qty', 'identified_defect',\n",
       "       'spare_parts_overdue', 'avg_ratings_6_mo', 'avg_ratings_12_mo',\n",
       "       'stock_overdue', 'internal_risk1', 'internal_risk2',\n",
       "       'production_quality_risk', 'pdt_recsys', 'internal_risk3',\n",
       "       'out_of_stock'],\n",
       "      dtype='object')"
      ]
     },
     "execution_count": 139,
     "metadata": {},
     "output_type": "execute_result"
    }
   ],
   "source": [
    "df.columns"
   ]
  },
  {
   "cell_type": "code",
   "execution_count": 142,
   "metadata": {},
   "outputs": [
    {
     "data": {
      "image/png": "[encoded data removed]",
      "text/plain": [
       "<Figure size 432x288 with 1 Axes>"
      ]
     },
     "metadata": {
      "needs_background": "light"
     },
     "output_type": "display_data"
    },
    {
     "data": {
      "image/png": "[encoded data removed]",
      "text/plain": [
       "<Figure size 432x288 with 1 Axes>"
      ]
     },
     "metadata": {
      "needs_background": "light"
     },
     "output_type": "display_data"
    }
   ],
   "source": [
    "sns.violinplot(x=df['out_of_stock'],y = df['avg_ratings_6_mo'])\n",
    "plt.show()\n",
    "\n",
    "sns.violinplot(x=df['out_of_stock'],y = df['avg_ratings_12_mo'])\n",
    "plt.show()"
   ]
  },
  {
   "cell_type": "code",
   "execution_count": null,
   "metadata": {},
   "outputs": [],
   "source": [
    "# sns.pairplot(df,hue = 'out_of_stock')\n",
    "# plt.show()"
   ]
  },
  {
   "cell_type": "code",
   "execution_count": 149,
   "metadata": {},
   "outputs": [
    {
     "data": {
      "image/png": "[encoded data removed]",
      "text/plain": [
       "<Figure size 1080x432 with 2 Axes>"
      ]
     },
     "metadata": {
      "needs_background": "light"
     },
     "output_type": "display_data"
    }
   ],
   "source": [
    "plt.figure(figsize=(15,6))\n",
    "\n",
    "sns.heatmap(df.corr(),cmap=\"YlGnBu\", annot=True)\n",
    "plt.show()"
   ]
  },
  {
   "cell_type": "code",
   "execution_count": 150,
   "metadata": {},
   "outputs": [
    {
     "data": {
      "text/html": [
       "<div>\n",
       "<style scoped>\n",
       "    .dataframe tbody tr th:only-of-type {\n",
       "        vertical-align: middle;\n",
       "    }\n",
       "\n",
       "    .dataframe tbody tr th {\n",
       "        vertical-align: top;\n",
       "    }\n",
       "\n",
       "    .dataframe thead th {\n",
       "        text-align: right;\n",
       "    }\n",
       "</style>\n",
       "<table border=\"1\" class=\"dataframe\">\n",
       "  <thead>\n",
       "    <tr style=\"text-align: right;\">\n",
       "      <th></th>\n",
       "      <th>count</th>\n",
       "      <th>mean</th>\n",
       "      <th>std</th>\n",
       "      <th>min</th>\n",
       "      <th>25%</th>\n",
       "      <th>50%</th>\n",
       "      <th>75%</th>\n",
       "      <th>max</th>\n",
       "    </tr>\n",
       "  </thead>\n",
       "  <tbody>\n",
       "    <tr>\n",
       "      <th>po_nbr</th>\n",
       "      <td>192994.0</td>\n",
       "      <td>2.256478e+06</td>\n",
       "      <td>764456.576351</td>\n",
       "      <td>1045867.0</td>\n",
       "      <td>1594203.25</td>\n",
       "      <td>2072349.00</td>\n",
       "      <td>3041604.25</td>\n",
       "      <td>3526980.0</td>\n",
       "    </tr>\n",
       "    <tr>\n",
       "      <th>present_inv</th>\n",
       "      <td>192994.0</td>\n",
       "      <td>4.071565e+02</td>\n",
       "      <td>7308.631312</td>\n",
       "      <td>-13491.0</td>\n",
       "      <td>4.00</td>\n",
       "      <td>15.00</td>\n",
       "      <td>80.00</td>\n",
       "      <td>1370327.0</td>\n",
       "    </tr>\n",
       "    <tr>\n",
       "      <th>lead_time</th>\n",
       "      <td>181317.0</td>\n",
       "      <td>7.857542e+00</td>\n",
       "      <td>6.995806</td>\n",
       "      <td>0.0</td>\n",
       "      <td>4.00</td>\n",
       "      <td>8.00</td>\n",
       "      <td>9.00</td>\n",
       "      <td>52.0</td>\n",
       "    </tr>\n",
       "    <tr>\n",
       "      <th>total_whpk_qty</th>\n",
       "      <td>192994.0</td>\n",
       "      <td>4.989741e+01</td>\n",
       "      <td>1669.073170</td>\n",
       "      <td>0.0</td>\n",
       "      <td>0.00</td>\n",
       "      <td>0.00</td>\n",
       "      <td>0.00</td>\n",
       "      <td>328060.0</td>\n",
       "    </tr>\n",
       "    <tr>\n",
       "      <th>fcst_3_mo</th>\n",
       "      <td>192994.0</td>\n",
       "      <td>1.916102e+02</td>\n",
       "      <td>5743.923043</td>\n",
       "      <td>0.0</td>\n",
       "      <td>0.00</td>\n",
       "      <td>0.00</td>\n",
       "      <td>4.00</td>\n",
       "      <td>1218328.0</td>\n",
       "    </tr>\n",
       "    <tr>\n",
       "      <th>fcst_6_mo</th>\n",
       "      <td>192994.0</td>\n",
       "      <td>3.689133e+02</td>\n",
       "      <td>11370.624038</td>\n",
       "      <td>0.0</td>\n",
       "      <td>0.00</td>\n",
       "      <td>0.00</td>\n",
       "      <td>12.00</td>\n",
       "      <td>2461360.0</td>\n",
       "    </tr>\n",
       "    <tr>\n",
       "      <th>fcst_9_mo</th>\n",
       "      <td>192994.0</td>\n",
       "      <td>5.411289e+02</td>\n",
       "      <td>16942.490139</td>\n",
       "      <td>0.0</td>\n",
       "      <td>0.00</td>\n",
       "      <td>0.00</td>\n",
       "      <td>20.00</td>\n",
       "      <td>3777304.0</td>\n",
       "    </tr>\n",
       "    <tr>\n",
       "      <th>sls_1_mo</th>\n",
       "      <td>192994.0</td>\n",
       "      <td>6.036901e+01</td>\n",
       "      <td>2115.744453</td>\n",
       "      <td>0.0</td>\n",
       "      <td>0.00</td>\n",
       "      <td>0.00</td>\n",
       "      <td>4.00</td>\n",
       "      <td>366191.0</td>\n",
       "    </tr>\n",
       "    <tr>\n",
       "      <th>sls_3_mo</th>\n",
       "      <td>192994.0</td>\n",
       "      <td>1.896981e+02</td>\n",
       "      <td>6265.479413</td>\n",
       "      <td>0.0</td>\n",
       "      <td>0.00</td>\n",
       "      <td>1.00</td>\n",
       "      <td>15.00</td>\n",
       "      <td>1084974.0</td>\n",
       "    </tr>\n",
       "    <tr>\n",
       "      <th>sls_6_mo</th>\n",
       "      <td>192994.0</td>\n",
       "      <td>3.686664e+02</td>\n",
       "      <td>11631.795911</td>\n",
       "      <td>0.0</td>\n",
       "      <td>0.00</td>\n",
       "      <td>2.00</td>\n",
       "      <td>31.00</td>\n",
       "      <td>2146625.0</td>\n",
       "    </tr>\n",
       "    <tr>\n",
       "      <th>sls_9_mo</th>\n",
       "      <td>192994.0</td>\n",
       "      <td>5.642267e+02</td>\n",
       "      <td>18008.057910</td>\n",
       "      <td>0.0</td>\n",
       "      <td>0.00</td>\n",
       "      <td>4.00</td>\n",
       "      <td>47.00</td>\n",
       "      <td>3197338.0</td>\n",
       "    </tr>\n",
       "    <tr>\n",
       "      <th>minimum_stock_qty</th>\n",
       "      <td>192994.0</td>\n",
       "      <td>5.662648e+01</td>\n",
       "      <td>1612.953221</td>\n",
       "      <td>0.0</td>\n",
       "      <td>0.00</td>\n",
       "      <td>0.00</td>\n",
       "      <td>3.00</td>\n",
       "      <td>311423.0</td>\n",
       "    </tr>\n",
       "    <tr>\n",
       "      <th>spare_parts_overdue</th>\n",
       "      <td>192994.0</td>\n",
       "      <td>2.907225e+00</td>\n",
       "      <td>411.985042</td>\n",
       "      <td>0.0</td>\n",
       "      <td>0.00</td>\n",
       "      <td>0.00</td>\n",
       "      <td>0.00</td>\n",
       "      <td>137625.0</td>\n",
       "    </tr>\n",
       "    <tr>\n",
       "      <th>avg_ratings_6_mo</th>\n",
       "      <td>192994.0</td>\n",
       "      <td>-6.914761e+00</td>\n",
       "      <td>26.622844</td>\n",
       "      <td>-99.0</td>\n",
       "      <td>0.63</td>\n",
       "      <td>0.82</td>\n",
       "      <td>0.96</td>\n",
       "      <td>1.0</td>\n",
       "    </tr>\n",
       "    <tr>\n",
       "      <th>avg_ratings_12_mo</th>\n",
       "      <td>192994.0</td>\n",
       "      <td>-6.504727e+00</td>\n",
       "      <td>25.952688</td>\n",
       "      <td>-99.0</td>\n",
       "      <td>0.66</td>\n",
       "      <td>0.81</td>\n",
       "      <td>0.95</td>\n",
       "      <td>1.0</td>\n",
       "    </tr>\n",
       "    <tr>\n",
       "      <th>stock_overdue</th>\n",
       "      <td>192994.0</td>\n",
       "      <td>7.221623e-01</td>\n",
       "      <td>38.620386</td>\n",
       "      <td>0.0</td>\n",
       "      <td>0.00</td>\n",
       "      <td>0.00</td>\n",
       "      <td>0.00</td>\n",
       "      <td>6544.0</td>\n",
       "    </tr>\n",
       "  </tbody>\n",
       "</table>\n",
       "</div>"
      ],
      "text/plain": [
       "                        count          mean            std        min  \\\n",
       "po_nbr               192994.0  2.256478e+06  764456.576351  1045867.0   \n",
       "present_inv          192994.0  4.071565e+02    7308.631312   -13491.0   \n",
       "lead_time            181317.0  7.857542e+00       6.995806        0.0   \n",
       "total_whpk_qty       192994.0  4.989741e+01    1669.073170        0.0   \n",
       "fcst_3_mo            192994.0  1.916102e+02    5743.923043        0.0   \n",
       "fcst_6_mo            192994.0  3.689133e+02   11370.624038        0.0   \n",
       "fcst_9_mo            192994.0  5.411289e+02   16942.490139        0.0   \n",
       "sls_1_mo             192994.0  6.036901e+01    2115.744453        0.0   \n",
       "sls_3_mo             192994.0  1.896981e+02    6265.479413        0.0   \n",
       "sls_6_mo             192994.0  3.686664e+02   11631.795911        0.0   \n",
       "sls_9_mo             192994.0  5.642267e+02   18008.057910        0.0   \n",
       "minimum_stock_qty    192994.0  5.662648e+01    1612.953221        0.0   \n",
       "spare_parts_overdue  192994.0  2.907225e+00     411.985042        0.0   \n",
       "avg_ratings_6_mo     192994.0 -6.914761e+00      26.622844      -99.0   \n",
       "avg_ratings_12_mo    192994.0 -6.504727e+00      25.952688      -99.0   \n",
       "stock_overdue        192994.0  7.221623e-01      38.620386        0.0   \n",
       "\n",
       "                            25%         50%         75%        max  \n",
       "po_nbr               1594203.25  2072349.00  3041604.25  3526980.0  \n",
       "present_inv                4.00       15.00       80.00  1370327.0  \n",
       "lead_time                  4.00        8.00        9.00       52.0  \n",
       "total_whpk_qty             0.00        0.00        0.00   328060.0  \n",
       "fcst_3_mo                  0.00        0.00        4.00  1218328.0  \n",
       "fcst_6_mo                  0.00        0.00       12.00  2461360.0  \n",
       "fcst_9_mo                  0.00        0.00       20.00  3777304.0  \n",
       "sls_1_mo                   0.00        0.00        4.00   366191.0  \n",
       "sls_3_mo                   0.00        1.00       15.00  1084974.0  \n",
       "sls_6_mo                   0.00        2.00       31.00  2146625.0  \n",
       "sls_9_mo                   0.00        4.00       47.00  3197338.0  \n",
       "minimum_stock_qty          0.00        0.00        3.00   311423.0  \n",
       "spare_parts_overdue        0.00        0.00        0.00   137625.0  \n",
       "avg_ratings_6_mo           0.63        0.82        0.96        1.0  \n",
       "avg_ratings_12_mo          0.66        0.81        0.95        1.0  \n",
       "stock_overdue              0.00        0.00        0.00     6544.0  "
      ]
     },
     "execution_count": 150,
     "metadata": {},
     "output_type": "execute_result"
    }
   ],
   "source": [
    "df.describe().T"
   ]
  },
  {
   "cell_type": "code",
   "execution_count": 151,
   "metadata": {},
   "outputs": [
    {
     "data": {
      "image/png": "[encoded data removed]",
      "text/plain": [
       "<Figure size 432x288 with 1 Axes>"
      ]
     },
     "metadata": {
      "needs_background": "light"
     },
     "output_type": "display_data"
    }
   ],
   "source": [
    "ax = sns.boxplot(x=df[\"lead_time\"])\n",
    "plt.show()"
   ]
  },
  {
   "cell_type": "code",
   "execution_count": 152,
   "metadata": {},
   "outputs": [
    {
     "data": {
      "image/png": "[encoded data removed]",
      "text/plain": [
       "<Figure size 432x288 with 1 Axes>"
      ]
     },
     "metadata": {
      "needs_background": "light"
     },
     "output_type": "display_data"
    }
   ],
   "source": [
    "plt.scatter(df['lead_time'], df['present_inv'],\n",
    "\n",
    "linewidths = 2,\n",
    "marker =\"o\",\n",
    "edgecolor =\"green\",\n",
    "s = 50)\n",
    "plt.show()"
   ]
  },
  {
   "cell_type": "code",
   "execution_count": 153,
   "metadata": {},
   "outputs": [
    {
     "data": {
      "image/png": "[encoded data removed]",
      "text/plain": [
       "<Figure size 432x288 with 1 Axes>"
      ]
     },
     "metadata": {
      "needs_background": "light"
     },
     "output_type": "display_data"
    }
   ],
   "source": [
    "plt.scatter(df['lead_time'], df['total_whpk_qty'],\n",
    "\n",
    "linewidths = 2,\n",
    "marker =\"o\",\n",
    "edgecolor =\"green\",\n",
    "s = 50)\n",
    "plt.show()"
   ]
  },
  {
   "cell_type": "code",
   "execution_count": 154,
   "metadata": {},
   "outputs": [
    {
     "data": {
      "image/png": "[encoded data removed]",
      "text/plain": [
       "<Figure size 432x288 with 1 Axes>"
      ]
     },
     "metadata": {
      "needs_background": "light"
     },
     "output_type": "display_data"
    }
   ],
   "source": [
    "plt.scatter(df['present_inv'], df['total_whpk_qty'],\n",
    "\n",
    "linewidths = 2,\n",
    "marker =\"o\",\n",
    "edgecolor =\"green\",\n",
    "s = 50)\n",
    "plt.show()"
   ]
  },
  {
   "cell_type": "code",
   "execution_count": 155,
   "metadata": {},
   "outputs": [
    {
     "data": {
      "image/png": "[encoded data removed]",
      "text/plain": [
       "<Figure size 432x288 with 1 Axes>"
      ]
     },
     "metadata": {
      "needs_background": "light"
     },
     "output_type": "display_data"
    }
   ],
   "source": [
    "sns.distplot(df['lead_time'], hist=True, kde=True,\n",
    "\n",
    "bins=int(36), color = 'darkblue',\n",
    "hist_kws={'edgecolor':'black'},\n",
    "kde_kws={'linewidth': 4})\n",
    "plt.show()"
   ]
  },
  {
   "cell_type": "code",
   "execution_count": null,
   "metadata": {},
   "outputs": [],
   "source": []
  },
  {
   "cell_type": "markdown",
   "metadata": {},
   "source": [
    "#### Hypothesis: Higher 'present inventory' leads to more OOS scenario"
   ]
  },
  {
   "cell_type": "markdown",
   "metadata": {},
   "source": [
    "Null Hypothesis: Ho: Mean 'present inventory' qty is same for OOS and Not OOS scenarios\n",
    "\n",
    "Alt: Ha: Mean 'present inventory' qty for OOS is greater than Not OOS scenarios/"
   ]
  },
  {
   "cell_type": "code",
   "execution_count": null,
   "metadata": {},
   "outputs": [],
   "source": [
    "t-test -mean, std finite pop -- CLT \n",
    "normal disb of sample\n",
    "independent obs in samples\n",
    "equal variance"
   ]
  },
  {
   "cell_type": "code",
   "execution_count": null,
   "metadata": {},
   "outputs": [],
   "source": []
  },
  {
   "cell_type": "code",
   "execution_count": null,
   "metadata": {},
   "outputs": [],
   "source": []
  },
  {
   "cell_type": "code",
   "execution_count": null,
   "metadata": {},
   "outputs": [],
   "source": []
  },
  {
   "cell_type": "code",
   "execution_count": 172,
   "metadata": {},
   "outputs": [
    {
     "data": {
      "image/png": "[encoded data removed]",
      "text/plain": [
       "<Figure size 432x288 with 1 Axes>"
      ]
     },
     "metadata": {
      "needs_background": "light"
     },
     "output_type": "display_data"
    }
   ],
   "source": [
    "sns.boxplot(data=df,x='out_of_stock',y='present_inv')\n",
    "plt.show()"
   ]
  },
  {
   "cell_type": "code",
   "execution_count": 173,
   "metadata": {},
   "outputs": [
    {
     "data": {
      "text/plain": [
       "No     191582\n",
       "Yes      1412\n",
       "Name: out_of_stock, dtype: int64"
      ]
     },
     "execution_count": 173,
     "metadata": {},
     "output_type": "execute_result"
    }
   ],
   "source": [
    "df['out_of_stock'].value_counts()"
   ]
  },
  {
   "cell_type": "code",
   "execution_count": null,
   "metadata": {},
   "outputs": [],
   "source": []
  },
  {
   "cell_type": "code",
   "execution_count": 234,
   "metadata": {},
   "outputs": [
    {
     "name": "stdout",
     "output_type": "stream",
     "text": [
      "(1412, 23) (1412, 23)\n"
     ]
    }
   ],
   "source": [
    "#Taking random samples to obtain data for both the groups\n",
    "noos=df[df['out_of_stock']=='No'].sample(1412,replace=False)\n",
    "oos=df[df['out_of_stock']=='Yes'].sample(1412,replace=False)\n",
    "print(noos.shape,oos.shape)"
   ]
  },
  {
   "cell_type": "code",
   "execution_count": 235,
   "metadata": {},
   "outputs": [
    {
     "data": {
      "image/png": "[encoded data removed]",
      "text/plain": [
       "<Figure size 432x288 with 1 Axes>"
      ]
     },
     "metadata": {
      "needs_background": "light"
     },
     "output_type": "display_data"
    }
   ],
   "source": [
    "plt.hist(noos['present_inv'],bins=40)\n",
    "\n",
    "plt.show()"
   ]
  },
  {
   "cell_type": "code",
   "execution_count": 236,
   "metadata": {},
   "outputs": [
    {
     "data": {
      "image/png": "[encoded data removed]",
      "text/plain": [
       "<Figure size 432x288 with 1 Axes>"
      ]
     },
     "metadata": {
      "needs_background": "light"
     },
     "output_type": "display_data"
    }
   ],
   "source": [
    "plt.hist(oos['present_inv'],bins=40)\n",
    "\n",
    "plt.show()"
   ]
  },
  {
   "cell_type": "code",
   "execution_count": 238,
   "metadata": {},
   "outputs": [
    {
     "name": "stdout",
     "output_type": "stream",
     "text": [
      "564835.0639415092\n",
      "3120322.3635110627\n"
     ]
    }
   ],
   "source": [
    "print(np.var(oos['present_inv']))\n",
    "print(np.var(noos['present_inv']))"
   ]
  },
  {
   "cell_type": "code",
   "execution_count": 239,
   "metadata": {},
   "outputs": [
    {
     "name": "stdout",
     "output_type": "stream",
     "text": [
      "751.5550970763948\n",
      "1766.4434221086908\n"
     ]
    }
   ],
   "source": [
    "print(np.std(oos['present_inv']))\n",
    "print(np.std(noos['present_inv']))"
   ]
  },
  {
   "cell_type": "code",
   "execution_count": null,
   "metadata": {},
   "outputs": [],
   "source": []
  },
  {
   "cell_type": "code",
   "execution_count": null,
   "metadata": {},
   "outputs": [],
   "source": []
  },
  {
   "cell_type": "code",
   "execution_count": 240,
   "metadata": {},
   "outputs": [
    {
     "data": {
      "text/plain": [
       "(-4.851896244943191, 0.9999993388664782)"
      ]
     },
     "execution_count": 240,
     "metadata": {},
     "output_type": "execute_result"
    }
   ],
   "source": [
    "t_test, p_value = stats.ttest_ind(oos['present_inv'],noos['present_inv'],alternative='greater', equal_var = False)\n",
    "t_test, p_value"
   ]
  },
  {
   "cell_type": "code",
   "execution_count": null,
   "metadata": {},
   "outputs": [],
   "source": [
    "#Test for Normality - QQ plot\n",
    "Kolmogorov Smirnoff test, Anderson Darling Test"
   ]
  },
  {
   "cell_type": "code",
   "execution_count": 241,
   "metadata": {},
   "outputs": [],
   "source": [
    "#Test for equal variance "
   ]
  },
  {
   "cell_type": "code",
   "execution_count": 251,
   "metadata": {},
   "outputs": [],
   "source": [
    "oos = oos[oos['present_inv']>0]"
   ]
  },
  {
   "cell_type": "code",
   "execution_count": 252,
   "metadata": {},
   "outputs": [],
   "source": [
    "noos = noos[noos['present_inv']>0]"
   ]
  },
  {
   "cell_type": "code",
   "execution_count": 253,
   "metadata": {},
   "outputs": [
    {
     "data": {
      "text/plain": [
       "1.0"
      ]
     },
     "execution_count": 253,
     "metadata": {},
     "output_type": "execute_result"
    }
   ],
   "source": [
    "noos['present_inv'].min()"
   ]
  },
  {
   "cell_type": "code",
   "execution_count": 254,
   "metadata": {},
   "outputs": [
    {
     "data": {
      "image/png": "[encoded data removed]",
      "text/plain": [
       "<Figure size 432x288 with 1 Axes>"
      ]
     },
     "metadata": {
      "needs_background": "light"
     },
     "output_type": "display_data"
    }
   ],
   "source": [
    "plt.hist(np.log(oos['present_inv']),bins=40)\n",
    "\n",
    "plt.show()"
   ]
  },
  {
   "cell_type": "code",
   "execution_count": 255,
   "metadata": {},
   "outputs": [
    {
     "data": {
      "image/png": "[encoded data removed]",
      "text/plain": [
       "<Figure size 432x288 with 1 Axes>"
      ]
     },
     "metadata": {
      "needs_background": "light"
     },
     "output_type": "display_data"
    }
   ],
   "source": [
    "plt.hist(np.log(noos['present_inv']),bins=40)\n",
    "\n",
    "plt.show()"
   ]
  },
  {
   "cell_type": "code",
   "execution_count": 257,
   "metadata": {},
   "outputs": [
    {
     "data": {
      "image/png": "[encoded data removed]",
      "text/plain": [
       "<Figure size 432x288 with 1 Axes>"
      ]
     },
     "metadata": {
      "needs_background": "light"
     },
     "output_type": "display_data"
    }
   ],
   "source": [
    "sm.qqplot(np.log(noos['present_inv']),line = '45',fit=True)\n",
    "plt.show()"
   ]
  },
  {
   "cell_type": "code",
   "execution_count": null,
   "metadata": {},
   "outputs": [],
   "source": [
    "#Shapiro Wilk- "
   ]
  },
  {
   "cell_type": "code",
   "execution_count": null,
   "metadata": {},
   "outputs": [],
   "source": [
    "box cox"
   ]
  },
  {
   "cell_type": "code",
   "execution_count": null,
   "metadata": {},
   "outputs": [],
   "source": [
    "prob--"
   ]
  },
  {
   "cell_type": "code",
   "execution_count": null,
   "metadata": {},
   "outputs": [],
   "source": [
    "Risk1 Vs OOS\n",
    "Yes/No Vs Y/N --chisquare contingency "
   ]
  },
  {
   "cell_type": "code",
   "execution_count": null,
   "metadata": {},
   "outputs": [],
   "source": [
    "Chapter-2 "
   ]
  },
  {
   "cell_type": "code",
   "execution_count": null,
   "metadata": {},
   "outputs": [],
   "source": [
    "Variables -- Lead time , WHP_QTY, RISK2, ETC...."
   ]
  },
  {
   "cell_type": "code",
   "execution_count": null,
   "metadata": {},
   "outputs": [],
   "source": []
  }
 ],
 "metadata": {
  "kernelspec": {
   "display_name": "Python 3",
   "language": "python",
   "name": "python3"
  },
  "language_info": {
   "codemirror_mode": {
    "name": "ipython",
    "version": 3
   },
   "file_extension": ".py",
   "mimetype": "text/x-python",
   "name": "python",
   "nbconvert_exporter": "python",
   "pygments_lexer": "ipython3",
   "version": "3.8.4"
  }
 },
 "nbformat": 4,
 "nbformat_minor": 4
}
